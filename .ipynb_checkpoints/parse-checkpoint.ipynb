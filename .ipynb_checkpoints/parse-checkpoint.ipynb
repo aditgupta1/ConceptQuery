{
 "cells": [
  {
   "cell_type": "code",
   "execution_count": 1,
   "metadata": {},
   "outputs": [],
   "source": [
    "import io\n",
    "import itertools\n",
    "import networkx as nx\n",
    "import nltk\n",
    "import os\n",
    "import numpy as np\n",
    "\n",
    "import matplotlib.pyplot as plt\n",
    "# from rake_nltk import Rake"
   ]
  },
  {
   "cell_type": "code",
   "execution_count": 2,
   "metadata": {},
   "outputs": [],
   "source": [
    "with open('sample.txt', 'r') as f:\n",
    "    text = f.read().lower()"
   ]
  },
  {
   "cell_type": "code",
   "execution_count": 3,
   "metadata": {},
   "outputs": [],
   "source": [
    "def filter_for_tags(tagged, tags=['NN', 'JJ', 'NNP']):\n",
    "    \"\"\"Apply syntactic filters based on POS tags.\"\"\"\n",
    "    return [item[0] for item in tagged if item[1] in tags]"
   ]
  },
  {
   "cell_type": "code",
   "execution_count": 4,
   "metadata": {},
   "outputs": [],
   "source": [
    "# stopwords = nltk.corpus.stopwords.words('english')"
   ]
  },
  {
   "cell_type": "code",
   "execution_count": 5,
   "metadata": {},
   "outputs": [],
   "source": [
    "# stopwords[:10]"
   ]
  },
  {
   "cell_type": "code",
   "execution_count": 6,
   "metadata": {},
   "outputs": [],
   "source": [
    "sentences = nltk.sent_tokenize(text)"
   ]
  },
  {
   "cell_type": "code",
   "execution_count": 7,
   "metadata": {},
   "outputs": [
    {
     "data": {
      "text/plain": [
       "[' \\npredictive modeling with deep learning is a skill that modern developers need to know.',\n",
       " 'tensorflow is the premier open-source deep learning framework developed and maintained by google.',\n",
       " 'although using tensorflow directly can be challenging, the modern tf.keras api beings the simplicity and ease of use of keras to the tensorflow project.',\n",
       " 'using tf.keras allows you to design, fit, evaluate, and use deep learning models to make predictions in just a few lines of code.',\n",
       " 'it makes common deep learning tasks, such as classification and regression predictive modeling, accessible to average developers looking to get things done.']"
      ]
     },
     "execution_count": 7,
     "metadata": {},
     "output_type": "execute_result"
    }
   ],
   "source": [
    "sentences[:5]"
   ]
  },
  {
   "cell_type": "markdown",
   "metadata": {},
   "source": [
    "## Words"
   ]
  },
  {
   "cell_type": "code",
   "execution_count": 8,
   "metadata": {},
   "outputs": [],
   "source": [
    "unique_word_set = set([])\n",
    "edges = {}\n",
    "\n",
    "for s in sentences:\n",
    "    # tokenize the text using nltk\n",
    "    word_tokens = [w for w in nltk.word_tokenize(s) if len(w) > 1]\n",
    "\n",
    "    # assign POS tags to the words in the text\n",
    "    tagged = nltk.pos_tag(word_tokens)\n",
    "    word_list = filter_for_tags(tagged)\n",
    "    word_list.sort()\n",
    "\n",
    "    for word in word_list:\n",
    "        if word not in unique_word_set:\n",
    "            unique_word_set.add(word)\n",
    "\n",
    "    for pair in itertools.combinations(word_list, 2):\n",
    "        if pair in edges.keys():\n",
    "            edges[pair] += 1\n",
    "        else:\n",
    "            edges[pair] = 1"
   ]
  },
  {
   "cell_type": "code",
   "execution_count": 9,
   "metadata": {},
   "outputs": [],
   "source": [
    "gr = nx.Graph()  # initialize an undirected graph\n",
    "gr.add_nodes_from(unique_word_set)\n",
    "\n",
    "for key, weight in edges.items():\n",
    "    gr.add_edge(key[0], key[1], weight=weight)"
   ]
  },
  {
   "cell_type": "code",
   "execution_count": 10,
   "metadata": {},
   "outputs": [
    {
     "data": {
      "text/plain": [
       "622"
      ]
     },
     "execution_count": 10,
     "metadata": {},
     "output_type": "execute_result"
    }
   ],
   "source": [
    "len(gr.nodes)"
   ]
  },
  {
   "cell_type": "code",
   "execution_count": 11,
   "metadata": {},
   "outputs": [],
   "source": [
    "calculated_page_rank = nx.pagerank(gr.to_directed(), weight='weight')"
   ]
  },
  {
   "cell_type": "code",
   "execution_count": 12,
   "metadata": {},
   "outputs": [],
   "source": [
    "all_keywords = sorted(calculated_page_rank, key=calculated_page_rank.get,reverse=True)"
   ]
  },
  {
   "cell_type": "code",
   "execution_count": 13,
   "metadata": {},
   "outputs": [
    {
     "name": "stdout",
     "output_type": "stream",
     "text": [
      "model 0.03892410203772709\n",
      "layer 0.015339274652960793\n",
      "example 0.015309887434307163\n",
      "training 0.014922830604093324\n",
      "dataset 0.014103400528035144\n",
      "deep 0.013473979272431812\n",
      "learning 0.013132646260337617\n",
      "loss 0.012154325413863935\n",
      "test 0.011300981794665294\n",
      "such 0.010743683923108097\n",
      "accuracy 0.010548347818803408\n",
      "function 0.010524693960754639\n",
      "tensorflow 0.01004204993217904\n",
      "api 0.00856350718362538\n",
      "tutorial 0.008539116673519155\n",
      "classification 0.008150240718893156\n",
      "network 0.00785169456823127\n",
      "time 0.007756209650360569\n",
      "number 0.007720486305379587\n",
      "output 0.007255454304998001\n",
      "mlp 0.006970960735753304\n",
      "new 0.006264519772134942\n",
      "problem 0.005855248182766183\n",
      "class 0.005838493122452975\n",
      "case 0.005777553035998495\n",
      "validation 0.00569525372026062\n",
      "input 0.005576376791290488\n",
      "neural 0.005446868041461135\n",
      "first 0.005176968065980391\n",
      "image 0.004729704729551044\n",
      "process 0.004721138090074793\n",
      "performance 0.004588761940143013\n",
      "vgg16 0.004588740662731597\n",
      "binary 0.004155324473316084\n",
      "evaluation 0.004138798026621612\n",
      "epoch 0.004113664274744157\n",
      "activation 0.004083773204519081\n",
      "value 0.004082684858841167\n",
      "list 0.0040136708758000406\n",
      "use 0.0038792578968835237\n",
      "plot 0.003817347911694067\n",
      "line 0.003759182951287364\n",
      "batch 0.0037041968452011078\n",
      "trainable 0.003648887397523356\n",
      "tuple 0.0035963818190885514\n",
      "result 0.0035497003656420533\n",
      "print 0.0034685092050760497\n",
      "prediction 0.0034494325992284677\n",
      "argument 0.0034179569809979177\n",
      "regression 0.0034155063784758626\n"
     ]
    }
   ],
   "source": [
    "labels = []\n",
    "scores = []\n",
    "for kp in all_keywords[:50]:\n",
    "    print(kp, calculated_page_rank[kp])\n",
    "    labels.append(kp)\n",
    "    scores.append(calculated_page_rank[kp])"
   ]
  },
  {
   "cell_type": "code",
   "execution_count": 79,
   "metadata": {},
   "outputs": [
    {
     "data": {
      "image/png": "[encoded data removed]",
      "text/plain": [
       "<Figure size 360x720 with 1 Axes>"
      ]
     },
     "metadata": {
      "needs_background": "light"
     },
     "output_type": "display_data"
    }
   ],
   "source": [
    "plt.figure(figsize=(5,10))\n",
    "plt.barh(range(len(labels), 0,-1), width=scores, tick_label=labels)\n",
    "plt.show()"
   ]
  },
  {
   "cell_type": "code",
   "execution_count": 15,
   "metadata": {},
   "outputs": [
    {
     "data": {
      "text/plain": [
       "1.0"
      ]
     },
     "execution_count": 15,
     "metadata": {},
     "output_type": "execute_result"
    }
   ],
   "source": [
    "np.sum([calculated_page_rank[kp] for kp in all_keywords])"
   ]
  },
  {
   "cell_type": "markdown",
   "metadata": {},
   "source": [
    "## Phrases"
   ]
  },
  {
   "cell_type": "code",
   "execution_count": 16,
   "metadata": {},
   "outputs": [],
   "source": [
    "word_tokens = nltk.word_tokenize(text)\n",
    "tagged = nltk.pos_tag(word_tokens)\n",
    "textlist = [x[0] for x in tagged]\n",
    "keywords = all_keywords[:len(all_keywords)//10]\n",
    "phrase_freq = {}"
   ]
  },
  {
   "cell_type": "code",
   "execution_count": 17,
   "metadata": {},
   "outputs": [],
   "source": [
    "def get_phrases(textlist, keywords, k=2):\n",
    "    # take keyphrases with multiple words into consideration as done in the\n",
    "    # paper - if two words are adjacent in the text and are selected as\n",
    "    # keywords, join them together\n",
    "    modified_key_phrases = set([])\n",
    "    # keeps track of individual keywords that have been joined to form a keyphrase\n",
    "    i = k-1\n",
    "    while i < len(textlist):\n",
    "        consecutive = tuple(textlist[i-k+1:i+1])\n",
    "        if all([word in keywords for word in consecutive]):\n",
    "            modified_key_phrases.add(consecutive)\n",
    "            if consecutive in phrase_freq.keys():\n",
    "                phrase_freq[consecutive] += 1\n",
    "            else:\n",
    "                phrase_freq[consecutive] = 1\n",
    "        i += 1\n",
    "        \n",
    "    keyword_freq = {}\n",
    "    for word in textlist:\n",
    "        if word in keywords:\n",
    "            if word in keyword_freq.keys():\n",
    "                keyword_freq[word] += 1\n",
    "            else:\n",
    "                keyword_freq[word] = 1\n",
    "                \n",
    "    return list(modified_key_phrases), keyword_freq"
   ]
  },
  {
   "cell_type": "code",
   "execution_count": 18,
   "metadata": {},
   "outputs": [],
   "source": [
    "keyphrases, freq = get_phrases(textlist, keywords, k=2)"
   ]
  },
  {
   "cell_type": "code",
   "execution_count": 19,
   "metadata": {},
   "outputs": [
    {
     "data": {
      "text/plain": [
       "[('learning', 'project'),\n",
       " ('deep', 'learning'),\n",
       " ('mlp', 'model'),\n",
       " ('deep', 'neural'),\n",
       " ('dropout', 'layer'),\n",
       " ('test', 'loss'),\n",
       " ('same', 'image'),\n",
       " ('mlp', 'binary'),\n",
       " ('image', 'input'),\n",
       " ('simple', 'model')]"
      ]
     },
     "execution_count": 19,
     "metadata": {},
     "output_type": "execute_result"
    }
   ],
   "source": [
    "keyphrases[:10]"
   ]
  },
  {
   "cell_type": "code",
   "execution_count": 20,
   "metadata": {},
   "outputs": [],
   "source": [
    "# cooccur_graph = nx.DiGraph()\n",
    "# cooccur_graph.add_nodes_from([(word,) for word in unique_word_set])\n",
    "\n",
    "# phrase_dict = {1:unique_word_set}\n",
    "\n",
    "# for phrase_len in range(2, 5):\n",
    "#     keyphrases = get_phrases(textlist, all_keywords[:len(all_keywords)//3], phrase_len)\n",
    "    \n",
    "#     for length in range(1, phrase_len):\n",
    "#         for kp in keyphrases:\n",
    "#             for i in range(length, phrase_len+1):\n",
    "#                 cooccur_graph.add_edge(kp[i-length:i], kp)"
   ]
  },
  {
   "cell_type": "code",
   "execution_count": 21,
   "metadata": {},
   "outputs": [],
   "source": [
    "# list(cooccur_graph.successors(('deep',)))"
   ]
  },
  {
   "cell_type": "code",
   "execution_count": 22,
   "metadata": {},
   "outputs": [],
   "source": [
    "# keywords = all_keywords\n",
    "\n",
    "# cooccurrence = {}\n",
    "# freq = {}\n",
    "# for word in keywords:\n",
    "#     cooccurrence[word] = 0\n",
    "#     freq[word] = 0\n",
    "\n",
    "# phrases = []\n",
    "\n",
    "# for s in sentences:\n",
    "#     word_tokens = nltk.word_tokenize(s)\n",
    "#     for k, g in itertools.groupby(word_tokens, key=lambda x: x in keywords):\n",
    "#         phrase = tuple(g)\n",
    "#         if k:\n",
    "#             for word in phrase:\n",
    "#                 cooccurrence[word] += len(phrase)\n",
    "#                 freq[word] += 1\n",
    "#             phrases.append(phrase)\n",
    "# #         print(k, phrase)"
   ]
  },
  {
   "cell_type": "code",
   "execution_count": 23,
   "metadata": {},
   "outputs": [],
   "source": [
    "# freq"
   ]
  },
  {
   "cell_type": "code",
   "execution_count": 44,
   "metadata": {},
   "outputs": [],
   "source": [
    "# score = {}\n",
    "# for word in keywords:\n",
    "#     score[word] = cooccurrence[word] / freq[word]\n",
    "    \n",
    "phrase_scores = {}\n",
    "for p in keyphrases:\n",
    "#     print(p)\n",
    "    phrase_scores[p] = np.prod([phrase_freq[p] / freq[w] for w in p])"
   ]
  },
  {
   "cell_type": "code",
   "execution_count": 45,
   "metadata": {},
   "outputs": [],
   "source": [
    "top_phrases = sorted(phrase_scores, key=phrase_scores.get, reverse=True)"
   ]
  },
  {
   "cell_type": "code",
   "execution_count": 46,
   "metadata": {},
   "outputs": [
    {
     "name": "stdout",
     "output_type": "stream",
     "text": [
      "('deep', 'learning') 0.46380308880308885\n",
      "('binary', 'classification') 0.3681818181818182\n",
      "('neural', 'network') 0.24060150375939848\n",
      "('activation', 'function') 0.2293906810035842\n",
      "('training', 'process') 0.08687943262411348\n",
      "('small', 'neural') 0.08035714285714285\n",
      "('classification', 'problem') 0.07102272727272727\n",
      "('training', 'dataset') 0.05780810919309514\n",
      "('next', 'value') 0.05714285714285714\n",
      "('test', 'dataset') 0.0440251572327044\n",
      "('classification', 'accuracy') 0.0427807486631016\n",
      "('output', 'layer') 0.041666666666666664\n",
      "('line', 'plot') 0.041666666666666664\n",
      "('validation', 'dataset') 0.0362844702467344\n",
      "('accuracy', 'evaluation') 0.03361344537815126\n",
      "('loss', 'function') 0.033602150537634407\n",
      "('standard', 'deep') 0.018018018018018018\n",
      "('example', 'first') 0.017470300489168415\n",
      "('learning', 'process') 0.013392857142857142\n",
      "('training', 'epoch') 0.012158054711246199\n"
     ]
    }
   ],
   "source": [
    "labels = []\n",
    "scores = []\n",
    "for p in top_phrases[:20]:\n",
    "    print(p, phrase_scores[p])\n",
    "    labels.append(' '.join(p))\n",
    "    scores.append(phrase_scores[p])"
   ]
  },
  {
   "cell_type": "code",
   "execution_count": 47,
   "metadata": {},
   "outputs": [
    {
     "data": {
      "image/png": "[encoded data removed]",
      "text/plain": [
       "<Figure size 360x576 with 1 Axes>"
      ]
     },
     "metadata": {
      "needs_background": "light"
     },
     "output_type": "display_data"
    }
   ],
   "source": [
    "plt.figure(figsize=(5,8))\n",
    "plt.barh(range(len(labels), 0,-1), width=scores, tick_label=labels)\n",
    "plt.show()"
   ]
  },
  {
   "cell_type": "code",
   "execution_count": 53,
   "metadata": {},
   "outputs": [
    {
     "name": "stdout",
     "output_type": "stream",
     "text": [
      "deep learning 0.46380308880308885\n",
      "training dataset 0.05780810919309514\n",
      "test dataset 0.0440251572327044\n",
      "classification accuracy 0.0427807486631016\n",
      "output layer 0.041666666666666664\n",
      "loss function 0.033602150537634407\n",
      "test accuracy 0.011204481792717085\n",
      "test loss 0.007936507936507936\n",
      "network model 0.006477732793522267\n",
      "classification dataset 0.003430531732418525\n"
     ]
    }
   ],
   "source": [
    "for p in top_phrases[:50]:\n",
    "    if all([w in keywords[:len(keywords)//3] for w in p]):\n",
    "        print(' '.join(p), phrase_scores[p])"
   ]
  },
  {
   "cell_type": "markdown",
   "metadata": {},
   "source": [
    "## Refined TextRank"
   ]
  },
  {
   "cell_type": "code",
   "execution_count": 71,
   "metadata": {},
   "outputs": [],
   "source": [
    "compound_words = top_phrases[:5]\n",
    "unique_word_set = set([])\n",
    "edges = {}\n",
    "\n",
    "for s in sentences:\n",
    "    # tokenize the text using nltk\n",
    "    raw_word_tokens = [w for w in nltk.word_tokenize(s) if len(w) > 1]\n",
    "    tagged = nltk.pos_tag(raw_word_tokens)\n",
    "    word_tokens = filter_for_tags(tagged)\n",
    "    \n",
    "    word_list = []\n",
    "    i = 0\n",
    "    while i < len(word_tokens) - 1:\n",
    "        if (word_tokens[i], word_tokens[i+1]) in compound_words:\n",
    "            word_list.append(word_tokens[i] + ' ' + word_tokens[i+1])\n",
    "            i += 2\n",
    "        else:\n",
    "            word_list.append(word_tokens[i])\n",
    "            i += 1\n",
    "    \n",
    "    word_list.sort()\n",
    "\n",
    "    for word in word_list:\n",
    "        if word not in unique_word_set:\n",
    "            unique_word_set.add(word)\n",
    "\n",
    "    for pair in itertools.combinations(word_list, 2):\n",
    "        if pair in edges.keys():\n",
    "            edges[pair] += 1\n",
    "        else:\n",
    "            edges[pair] = 1"
   ]
  },
  {
   "cell_type": "code",
   "execution_count": 72,
   "metadata": {},
   "outputs": [],
   "source": [
    "gr = nx.Graph()  # initialize an undirected graph\n",
    "gr.add_nodes_from(unique_word_set)\n",
    "\n",
    "for key, weight in edges.items():\n",
    "    gr.add_edge(key[0], key[1], weight=weight)"
   ]
  },
  {
   "cell_type": "code",
   "execution_count": 73,
   "metadata": {},
   "outputs": [
    {
     "data": {
      "text/plain": [
       "554"
      ]
     },
     "execution_count": 73,
     "metadata": {},
     "output_type": "execute_result"
    }
   ],
   "source": [
    "len(gr.nodes)"
   ]
  },
  {
   "cell_type": "code",
   "execution_count": 74,
   "metadata": {},
   "outputs": [],
   "source": [
    "calculated_page_rank = nx.pagerank(gr.to_directed(), weight='weight')"
   ]
  },
  {
   "cell_type": "code",
   "execution_count": 75,
   "metadata": {},
   "outputs": [],
   "source": [
    "all_keywords = sorted(calculated_page_rank, key=calculated_page_rank.get,reverse=True)"
   ]
  },
  {
   "cell_type": "code",
   "execution_count": 76,
   "metadata": {},
   "outputs": [
    {
     "name": "stdout",
     "output_type": "stream",
     "text": [
      "model 0.03611287415042358\n",
      "example 0.015881337592093887\n",
      "training 0.015372206688148166\n",
      "loss 0.014677249112602944\n",
      "layer 0.014439648475633988\n",
      "test 0.013667097933872979\n",
      "accuracy 0.013043468724959175\n",
      "such 0.012576483938505337\n",
      "deep learning 0.011521880290772247\n",
      "tensorflow 0.011167385887898383\n",
      "dataset 0.010475221064477208\n",
      "number 0.008768545107101147\n",
      "api 0.00843708741299231\n",
      "tutorial 0.008370692714194449\n",
      "mlp 0.008169448068862625\n",
      "output 0.007301836923437915\n",
      "time 0.007187351681812165\n",
      "class 0.006594034845842476\n",
      "new 0.006482628249473155\n",
      "case 0.006392495867076168\n",
      "validation 0.006087264941055861\n",
      "function 0.005966361490759654\n",
      "input 0.005528991077622681\n",
      "first 0.005368932136980509\n",
      "problem 0.005067271731568196\n",
      "network 0.005005081919988274\n",
      "classification 0.004940208460503793\n",
      "performance 0.004892075575829472\n",
      "vgg16 0.004880513173859706\n",
      "image 0.004693300072756554\n",
      "print 0.004438119810996175\n",
      "batch 0.004431340615699698\n",
      "line 0.004393931039199761\n",
      "activation function 0.0043026973684442095\n",
      "list 0.004298157093903526\n",
      "binary classification 0.004262093574978363\n",
      "argument 0.004161086664697052\n",
      "value 0.004108587081799636\n",
      "epoch 0.004097718783776984\n",
      "result 0.0039352422626284895\n",
      "simple 0.003830760130559611\n",
      "good 0.0038102117276889256\n",
      "prediction 0.003803801570929317\n",
      "tuple 0.003706436089415677\n",
      "process 0.003675875073281481\n",
      "regression 0.003656844488142807\n",
      "iris 0.003589033658867949\n",
      "unseen 0.0035678137830092004\n",
      "next 0.0035077804297220946\n",
      "standard 0.0034933607368127185\n"
     ]
    }
   ],
   "source": [
    "labels = []\n",
    "scores = []\n",
    "for kp in all_keywords[:50]:\n",
    "    print(kp, calculated_page_rank[kp])\n",
    "    labels.append(kp)\n",
    "    scores.append(calculated_page_rank[kp])"
   ]
  },
  {
   "cell_type": "code",
   "execution_count": 78,
   "metadata": {},
   "outputs": [
    {
     "data": {
      "image/png": "[encoded data removed]",
      "text/plain": [
       "<Figure size 360x720 with 1 Axes>"
      ]
     },
     "metadata": {
      "needs_background": "light"
     },
     "output_type": "display_data"
    }
   ],
   "source": [
    "plt.figure(figsize=(5,10))\n",
    "plt.barh(range(len(labels), 0,-1), width=scores, tick_label=labels)\n",
    "plt.show()"
   ]
  },
  {
   "cell_type": "code",
   "execution_count": null,
   "metadata": {},
   "outputs": [],
   "source": []
  }
 ],
 "metadata": {
  "kernelspec": {
   "display_name": "Python 3",
   "language": "python",
   "name": "python3"
  },
  "language_info": {
   "codemirror_mode": {
    "name": "ipython",
    "version": 3
   },
   "file_extension": ".py",
   "mimetype": "text/x-python",
   "name": "python",
   "nbconvert_exporter": "python",
   "pygments_lexer": "ipython3",
   "version": "3.7.4"
  },
  "latex_envs": {
   "LaTeX_envs_menu_present": true,
   "autoclose": false,
   "autocomplete": true,
   "bibliofile": "biblio.bib",
   "cite_by": "apalike",
   "current_citInitial": 1,
   "eqLabelWithNumbers": true,
   "eqNumInitial": 1,
   "hotkeys": {
    "equation": "Ctrl-E",
    "itemize": "Ctrl-I"
   },
   "labels_anchors": false,
   "latex_user_defs": false,
   "report_style_numbering": false,
   "user_envs_cfg": false
  },
  "toc": {
   "base_numbering": 1,
   "nav_menu": {},
   "number_sections": true,
   "sideBar": true,
   "skip_h1_title": false,
   "title_cell": "Table of Contents",
   "title_sidebar": "Contents",
   "toc_cell": false,
   "toc_position": {},
   "toc_section_display": true,
   "toc_window_display": false
  }
 },
 "nbformat": 4,
 "nbformat_minor": 2
}
