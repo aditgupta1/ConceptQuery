{
 "cells": [
  {
   "cell_type": "markdown",
   "metadata": {},
   "source": [
    "# Keyterm Parsing"
   ]
  },
  {
   "cell_type": "code",
   "execution_count": 1,
   "metadata": {},
   "outputs": [],
   "source": [
    "import itertools\n",
    "import networkx as nx\n",
    "import nltk\n",
    "import os\n",
    "import numpy as np\n",
    "import json\n",
    "\n",
    "import matplotlib.pyplot as plt\n",
    "import inflection\n",
    "import string\n",
    "import time"
   ]
  },
  {
   "cell_type": "code",
   "execution_count": 2,
   "metadata": {},
   "outputs": [],
   "source": [
    "import spacy\n",
    "from spacy.matcher import Matcher\n",
    "from spacy.pipeline import EntityRuler\n",
    "from spacy import displacy\n",
    "nlp = spacy.load(\"en_core_web_sm\")"
   ]
  },
  {
   "cell_type": "code",
   "execution_count": 3,
   "metadata": {},
   "outputs": [],
   "source": [
    "with open('../samples/sample7.txt', 'r', encoding='utf-8') as f:\n",
    "    text = f.read().replace('\\n', ' ')"
   ]
  },
  {
   "cell_type": "code",
   "execution_count": 4,
   "metadata": {},
   "outputs": [],
   "source": [
    "with open('../lib/plural_to_singular.json', 'r') as f:\n",
    "    plural_to_singular = json.load(f)"
   ]
  },
  {
   "cell_type": "code",
   "execution_count": 5,
   "metadata": {},
   "outputs": [],
   "source": [
    "stopwords = nltk.corpus.stopwords.words('english')"
   ]
  },
  {
   "cell_type": "code",
   "execution_count": 6,
   "metadata": {},
   "outputs": [
    {
     "name": "stdout",
     "output_type": "stream",
     "text": [
      "['i', 'me', 'my', 'myself', 'we', 'our', 'ours', 'ourselves', 'you', \"you're\", \"you've\", \"you'll\", \"you'd\", 'your', 'yours', 'yourself', 'yourselves', 'he', 'him', 'his', 'himself', 'she', \"she's\", 'her', 'hers', 'herself', 'it', \"it's\", 'its', 'itself', 'they', 'them', 'their', 'theirs', 'themselves', 'what', 'which', 'who', 'whom', 'this', 'that', \"that'll\", 'these', 'those', 'am', 'is', 'are', 'was', 'were', 'be', 'been', 'being', 'have', 'has', 'had', 'having', 'do', 'does', 'did', 'doing', 'a', 'an', 'the', 'and', 'but', 'if', 'or', 'because', 'as', 'until', 'while', 'of', 'at', 'by', 'for', 'with', 'about', 'against', 'between', 'into', 'through', 'during', 'before', 'after', 'above', 'below', 'to', 'from', 'up', 'down', 'in', 'out', 'on', 'off', 'over', 'under', 'again', 'further', 'then', 'once', 'here', 'there', 'when', 'where', 'why', 'how', 'all', 'any', 'both', 'each', 'few', 'more', 'most', 'other', 'some', 'such', 'no', 'nor', 'not', 'only', 'own', 'same', 'so', 'than', 'too', 'very', 's', 't', 'can', 'will', 'just', 'don', \"don't\", 'should', \"should've\", 'now', 'd', 'll', 'm', 'o', 're', 've', 'y', 'ain', 'aren', \"aren't\", 'couldn', \"couldn't\", 'didn', \"didn't\", 'doesn', \"doesn't\", 'hadn', \"hadn't\", 'hasn', \"hasn't\", 'haven', \"haven't\", 'isn', \"isn't\", 'ma', 'mightn', \"mightn't\", 'mustn', \"mustn't\", 'needn', \"needn't\", 'shan', \"shan't\", 'shouldn', \"shouldn't\", 'wasn', \"wasn't\", 'weren', \"weren't\", 'won', \"won't\", 'wouldn', \"wouldn't\"]\n"
     ]
    }
   ],
   "source": [
    "print(stopwords)"
   ]
  },
  {
   "cell_type": "code",
   "execution_count": 7,
   "metadata": {},
   "outputs": [],
   "source": [
    "# from textrank_spacy import extract_top_terms"
   ]
  },
  {
   "cell_type": "code",
   "execution_count": 8,
   "metadata": {},
   "outputs": [],
   "source": [
    "# patterns = extract_top_terms(text, stopwords, plural_to_singular)"
   ]
  },
  {
   "cell_type": "code",
   "execution_count": 9,
   "metadata": {},
   "outputs": [],
   "source": [
    "# patterns"
   ]
  },
  {
   "cell_type": "code",
   "execution_count": 10,
   "metadata": {},
   "outputs": [],
   "source": [
    "# for pat in patterns:\n",
    "#     if pat['id'] == 'neural-network':\n",
    "#         print(pat)"
   ]
  },
  {
   "cell_type": "markdown",
   "metadata": {},
   "source": [
    "## Entity Rules"
   ]
  },
  {
   "cell_type": "markdown",
   "metadata": {},
   "source": [
    "Acroynms are defined as uppercase words of length greater than 1."
   ]
  },
  {
   "cell_type": "code",
   "execution_count": 11,
   "metadata": {},
   "outputs": [],
   "source": [
    "matcher = Matcher(nlp.vocab)\n",
    "# Add match ID \"HelloWorld\" with no callback and one pattern\n",
    "pattern = [{\"IS_UPPER\": True}]\n",
    "matcher.add(\"acronym\", None, pattern)\n",
    "\n",
    "doc = nlp(text)\n",
    "matches = matcher(doc)\n",
    "acroynm_candidates = []\n",
    "acroynm_set = set([])\n",
    "for match_id, start, end in matches:\n",
    "    string_id = nlp.vocab.strings[match_id]  # Get string representation\n",
    "    span = doc[start:end]  # The matched span\n",
    "    if len(span.text) > 1 and span.text not in acroynm_set:\n",
    "        acroynm_candidates.append(span)\n",
    "        acroynm_set.add(span.text)\n",
    "#     print(match_id, string_id, start, end, span.text)"
   ]
  },
  {
   "cell_type": "code",
   "execution_count": 12,
   "metadata": {},
   "outputs": [
    {
     "data": {
      "text/plain": [
       "[E., R., OTHER, MERRIAM, WEBSTER, DICTIONARIES, FOLLOW, US]"
      ]
     },
     "execution_count": 12,
     "metadata": {},
     "output_type": "execute_result"
    }
   ],
   "source": [
    "acroynm_candidates"
   ]
  },
  {
   "cell_type": "code",
   "execution_count": 30,
   "metadata": {},
   "outputs": [],
   "source": [
    "def get_ent_id(span):\n",
    "    simplified_tokens = []\n",
    "    for token in span:\n",
    "        text = token.text.lower()\n",
    "\n",
    "        if token.is_upper:\n",
    "            simplified_tokens.append(text)\n",
    "        elif text not in stopwords and text not in string.punctuation:\n",
    "            if text in plural_to_singular.keys():\n",
    "                singular = plural_to_singular[text]\n",
    "            else:\n",
    "                singular = text\n",
    "            simplified_tokens.append(singular)\n",
    "\n",
    "    return '-'.join(simplified_tokens)"
   ]
  },
  {
   "cell_type": "code",
   "execution_count": 33,
   "metadata": {},
   "outputs": [],
   "source": [
    "entity_rules = []\n",
    "entity_set = set([])\n",
    "entity_ids = set([])\n",
    "skiplabels = [ 'DATE','TIME', 'PERCENT', 'MONEY', 'QUANTITY','ORDINAL', 'CARDINAL']\n",
    "        \n",
    "for ent in doc.ents:\n",
    "    ent_id = get_ent_id(ent)\n",
    "    # Ent id can't be empty string\n",
    "    if ent_id == '':\n",
    "        continue\n",
    "\n",
    "    # Remove literal duplicates\n",
    "    if ent.label_ not in skiplabels and ent.text not in entity_set:\n",
    "        entity_rules.append((ent, ent_id))\n",
    "        entity_set.add(ent.text)\n",
    "        entity_ids.add(ent_id)"
   ]
  },
  {
   "cell_type": "code",
   "execution_count": 34,
   "metadata": {
    "scrolled": false
   },
   "outputs": [
    {
     "data": {
      "text/plain": [
       "[(Verb, 'verb'),\n",
       " (New Yorker, 'new-yorker'),\n",
       " (Lily Tomlin, 'lily-tomlin'),\n",
       " (E. R. Black, 'e.-r.-black'),\n",
       " (Views, 'view'),\n",
       " (Merriam-Webster, 'merriam-webster'),\n",
       " (Middle English, 'middle-english'),\n",
       " (Anglo-French, 'anglo-french'),\n",
       " (Latin, 'latin'),\n",
       " (Num   , 'num-  '),\n",
       " (Number Ten   Social Security, 'number-ten-  -social-security'),\n",
       " (Cite this Entry, 'cite-entry'),\n",
       " (Number, 'number'),\n",
       " (Merriam, 'merriam'),\n",
       " (English, 'english'),\n",
       " (Spanish, 'spanish'),\n",
       " (Nglish:  Translation, 'nglish- -translation'),\n",
       " (Arabic, 'arabic'),\n",
       " (Britannica.com, 'britannica.com'),\n",
       " (Encyclopedia, 'encyclopedia'),\n",
       " (Comments, 'comment'),\n",
       " (Get Word of the, 'get-word'),\n",
       " (America, 'america'),\n",
       " (OTHER MERRIAM-WEBSTER DICTIONARIES, 'other-merriam-webster-dictionaries'),\n",
       " (FOLLOW, 'follow'),\n",
       " (US, 'us')]"
      ]
     },
     "execution_count": 34,
     "metadata": {},
     "output_type": "execute_result"
    }
   ],
   "source": [
    "entity_rules"
   ]
  },
  {
   "cell_type": "code",
   "execution_count": 21,
   "metadata": {},
   "outputs": [],
   "source": [
    "ent_id_list = list(entity_ids)\n",
    "acronym_pairs = {}\n",
    "acronym_rules = []\n",
    "\n",
    "for cand in acroynm_candidates:\n",
    "    cand_lower = cand.text.lower()\n",
    "\n",
    "    for ent_id in ent_id_list:\n",
    "        tokens = ent_id.split('-')\n",
    "        \n",
    "        if len(cand_lower) == len(tokens):\n",
    "            match = all([cand_lower[i] == tokens[i][0] for i in range(len(cand_lower))])\n",
    "        else:\n",
    "            match = False\n",
    "        \n",
    "        if match:\n",
    "            acronym_pairs[cand_lower] = ent_id\n",
    "            acronym_pairs[cand_lower + 's'] = ent_id\n",
    "            \n",
    "            acronym_rules.append((cand.text, ent_id))\n",
    "            acronym_rules.append((cand.text + 's', ent_id))\n",
    "            break"
   ]
  },
  {
   "cell_type": "code",
   "execution_count": 22,
   "metadata": {},
   "outputs": [
    {
     "data": {
      "text/plain": [
       "{}"
      ]
     },
     "execution_count": 22,
     "metadata": {},
     "output_type": "execute_result"
    }
   ],
   "source": [
    "acronym_pairs"
   ]
  },
  {
   "cell_type": "code",
   "execution_count": 23,
   "metadata": {},
   "outputs": [
    {
     "data": {
      "text/plain": [
       "[]"
      ]
     },
     "execution_count": 23,
     "metadata": {},
     "output_type": "execute_result"
    }
   ],
   "source": [
    "acronym_rules"
   ]
  },
  {
   "cell_type": "code",
   "execution_count": 24,
   "metadata": {},
   "outputs": [],
   "source": [
    "entity_patterns = []\n",
    "\n",
    "for chunk, ent_id in entity_rules:\n",
    "    if chunk[0].text in ['the', 'The']:\n",
    "        pattern = chunk[1:].text\n",
    "    else:\n",
    "        pattern = chunk.text\n",
    "    \n",
    "    if ent_id in acronym_pairs.keys():\n",
    "        pattern_id = acronym_pairs[ent_id]\n",
    "    else:\n",
    "        pattern_id = ent_id\n",
    "        \n",
    "    entity_patterns.append({'label':'CUSTOM', 'pattern':pattern, 'id':pattern_id})"
   ]
  },
  {
   "cell_type": "code",
   "execution_count": 25,
   "metadata": {},
   "outputs": [],
   "source": [
    "for pattern, ent_id in acronym_rules:\n",
    "    entity_patterns.append({'label':'CUSTOM', 'pattern':pattern, 'id':ent_id})"
   ]
  },
  {
   "cell_type": "code",
   "execution_count": 26,
   "metadata": {},
   "outputs": [
    {
     "data": {
      "text/plain": [
       "[{'label': 'CUSTOM', 'pattern': 'Verb', 'id': 'verb'},\n",
       " {'label': 'CUSTOM', 'pattern': 'New Yorker', 'id': 'new-yorker'},\n",
       " {'label': 'CUSTOM', 'pattern': 'Lily Tomlin', 'id': 'lily-tomlin'},\n",
       " {'label': 'CUSTOM', 'pattern': 'E. R. Black', 'id': 'e.-r.-black'},\n",
       " {'label': 'CUSTOM', 'pattern': 'Views', 'id': 'view'},\n",
       " {'label': 'CUSTOM', 'pattern': 'Merriam-Webster', 'id': 'merriam-webster'},\n",
       " {'label': 'CUSTOM', 'pattern': 'Middle English', 'id': 'middle-english'},\n",
       " {'label': 'CUSTOM', 'pattern': 'Anglo-French', 'id': 'anglo-french'},\n",
       " {'label': 'CUSTOM', 'pattern': 'Latin', 'id': 'latin'},\n",
       " {'label': 'CUSTOM', 'pattern': 'Num   ', 'id': 'num'},\n",
       " {'label': 'CUSTOM',\n",
       "  'pattern': 'Number Ten   Social Security',\n",
       "  'id': 'number-ten-social-security'},\n",
       " {'label': 'CUSTOM', 'pattern': 'Cite this Entry', 'id': 'cite-entry'},\n",
       " {'label': 'CUSTOM', 'pattern': 'Number', 'id': 'number'},\n",
       " {'label': 'CUSTOM', 'pattern': 'Merriam', 'id': 'merriam'},\n",
       " {'label': 'CUSTOM', 'pattern': 'English', 'id': 'english'},\n",
       " {'label': 'CUSTOM', 'pattern': 'Spanish', 'id': 'spanish'},\n",
       " {'label': 'CUSTOM',\n",
       "  'pattern': 'Nglish:  Translation',\n",
       "  'id': 'nglish-translation'},\n",
       " {'label': 'CUSTOM', 'pattern': 'Arabic', 'id': 'arabic'},\n",
       " {'label': 'CUSTOM', 'pattern': 'Britannica.com', 'id': 'britannica.com'},\n",
       " {'label': 'CUSTOM', 'pattern': 'Encyclopedia', 'id': 'encyclopedia'},\n",
       " {'label': 'CUSTOM', 'pattern': 'Comments', 'id': 'comment'},\n",
       " {'label': 'CUSTOM', 'pattern': 'Get Word of the', 'id': 'get-word'},\n",
       " {'label': 'CUSTOM', 'pattern': 'America', 'id': 'america'},\n",
       " {'label': 'CUSTOM',\n",
       "  'pattern': 'OTHER MERRIAM-WEBSTER DICTIONARIES',\n",
       "  'id': 'merriam-webster-dictionary'},\n",
       " {'label': 'CUSTOM', 'pattern': 'FOLLOW', 'id': 'follow'},\n",
       " {'label': 'CUSTOM', 'pattern': 'US', 'id': 'u'}]"
      ]
     },
     "execution_count": 26,
     "metadata": {},
     "output_type": "execute_result"
    }
   ],
   "source": [
    "entity_patterns"
   ]
  },
  {
   "cell_type": "markdown",
   "metadata": {},
   "source": [
    "## Find Keywords"
   ]
  },
  {
   "cell_type": "markdown",
   "metadata": {},
   "source": [
    "Extract phrases using TextRank with no a priori assumptions on word relevance."
   ]
  },
  {
   "cell_type": "code",
   "execution_count": 27,
   "metadata": {},
   "outputs": [],
   "source": [
    "def get_word_list(sentence):\n",
    "    word_list = []\n",
    "    for w in sentence:\n",
    "        if w.pos_ in ['ADJ', 'ADV', 'NOUN', 'PROPN', 'X'] and w.text not in word_list:\n",
    "            word_list.append(w.text)\n",
    "    return word_list"
   ]
  },
  {
   "cell_type": "code",
   "execution_count": 28,
   "metadata": {},
   "outputs": [],
   "source": [
    "unique_word_set = set([])\n",
    "edges = {}\n",
    "\n",
    "for s in doc.sents:\n",
    "    # tokenize the text using nltk\n",
    "    word_list = get_word_list(s)\n",
    "#     word_list.sort()\n",
    "\n",
    "    for word in word_list:\n",
    "        if word not in unique_word_set:\n",
    "            unique_word_set.add(word)\n",
    "\n",
    "    for pair in itertools.combinations(word_list, 2):\n",
    "        if pair in edges.keys():\n",
    "            edges[pair] += 1\n",
    "        else:\n",
    "            edges[pair] = 1"
   ]
  },
  {
   "cell_type": "code",
   "execution_count": 29,
   "metadata": {},
   "outputs": [],
   "source": [
    "gr = nx.DiGraph()  # initialize an undirected graph\n",
    "gr.add_nodes_from(unique_word_set)\n",
    "\n",
    "for key, weight in edges.items():\n",
    "    gr.add_edge(key[0], key[1], weight=weight)"
   ]
  },
  {
   "cell_type": "code",
   "execution_count": 30,
   "metadata": {},
   "outputs": [
    {
     "data": {
      "text/plain": [
       "176"
      ]
     },
     "execution_count": 30,
     "metadata": {},
     "output_type": "execute_result"
    }
   ],
   "source": [
    "len(gr.nodes)"
   ]
  },
  {
   "cell_type": "code",
   "execution_count": 31,
   "metadata": {},
   "outputs": [],
   "source": [
    "calculated_page_rank = nx.pagerank(gr, weight='weight')"
   ]
  },
  {
   "cell_type": "code",
   "execution_count": 32,
   "metadata": {},
   "outputs": [],
   "source": [
    "all_keywords = sorted(calculated_page_rank, key=calculated_page_rank.get,reverse=True)"
   ]
  },
  {
   "cell_type": "code",
   "execution_count": 33,
   "metadata": {},
   "outputs": [],
   "source": [
    "def plot_bar(sorted_arr, scores, n=50):\n",
    "    labels = []\n",
    "    width = []\n",
    "    for kp in sorted_arr[:n]:\n",
    "        print(kp, scores[kp])\n",
    "        labels.append(' '.join(kp) if isinstance(kp, tuple) or isinstance(kp, list) else kp)\n",
    "        width.append(scores[kp])\n",
    "        \n",
    "    plt.figure(figsize=(5,10))\n",
    "    plt.barh(range(len(labels), 0,-1), width=width, tick_label=labels)\n",
    "    plt.show()"
   ]
  },
  {
   "cell_type": "code",
   "execution_count": 34,
   "metadata": {},
   "outputs": [
    {
     "name": "stdout",
     "output_type": "stream",
     "text": [
      "number 0.03928167654573092\n",
      "Yorker 0.03898856975903574\n",
      "Speakers 0.022427648012457963\n",
      "agreement 0.021921155122107388\n",
      "New 0.021076662558702157\n",
      "free 0.019092507521732725\n",
      "mass 0.017104377300102988\n",
      "more 0.016872842311915368\n",
      "Definition 0.01575994473522464\n",
      "pebbles 0.014791618441791672\n",
      "Share 0.014558188785809764\n",
      "nuts 0.013278326035629714\n",
      "word 0.012665282820941558\n",
      "numbat 0.011850553170642295\n",
      "black 0.011526447664189084\n",
      "Dictionary 0.010363641777007772\n",
      "ad 0.010320937114843467\n",
      "numerus 0.009758686159652433\n",
      "glad 0.009506616341842475\n",
      "Webster 0.009306676969593414\n",
      "amount 0.00929455100153153\n",
      "time 0.008577962383465218\n",
      "numb 0.008316707666409047\n",
      "Nglish 0.008253763069862606\n",
      "collection 0.0081254510927021\n",
      "Learners 0.008067266695978624\n",
      "vocab 0.008052401830622178\n",
      "DICTIONARIES 0.008052401830622176\n",
      "email 0.008052401830622176\n",
      "money 0.007931282158362862\n",
      "» 0.00792099203264243\n",
      "usage 0.007823090501295248\n",
      "Translation 0.007711744818598216\n",
      "Latin 0.0076040377635674785\n",
      "mainly 0.007449611908137487\n",
      "English 0.0072878253946743\n",
      "search 0.007242819892747267\n",
      "people 0.007179057753566465\n",
      "things 0.006937851842574317\n",
      "editors 0.0067874273808467825\n",
      "century 0.006736236624122506\n",
      "when 0.0067333643255067166\n",
      "https://www.merriam-webster.com/dictionary/number 0.006622471214798562\n",
      "Num 0.006480799203770062\n",
      "words 0.006398286408603698\n",
      "possible 0.006274292614467093\n",
      "Black 0.006274292614467093\n",
      "Quiz 0.0062742926144670925\n",
      "animals 0.0062742926144670925\n",
      "French 0.0062712744355572295\n"
     ]
    },
    {
     "data": {
      "image/png": "[encoded data removed]",
      "text/plain": [
       "<Figure size 360x720 with 1 Axes>"
      ]
     },
     "metadata": {
      "needs_background": "light"
     },
     "output_type": "display_data"
    }
   ],
   "source": [
    "plot_bar(all_keywords, calculated_page_rank, n=50)"
   ]
  },
  {
   "cell_type": "code",
   "execution_count": 35,
   "metadata": {},
   "outputs": [
    {
     "data": {
      "text/plain": [
       "1.0000000000000004"
      ]
     },
     "execution_count": 35,
     "metadata": {},
     "output_type": "execute_result"
    }
   ],
   "source": [
    "np.sum([calculated_page_rank[kp] for kp in all_keywords])"
   ]
  },
  {
   "cell_type": "markdown",
   "metadata": {},
   "source": [
    "## Find Phrases"
   ]
  },
  {
   "cell_type": "code",
   "execution_count": 36,
   "metadata": {},
   "outputs": [],
   "source": [
    "textlist = [token.text for token in doc]\n",
    "keywords = all_keywords[:len(all_keywords)//10]\n",
    "phrase_freq = {}"
   ]
  },
  {
   "cell_type": "code",
   "execution_count": 37,
   "metadata": {},
   "outputs": [],
   "source": [
    "def get_phrases(doc, keywords, k=2):\n",
    "    # take keyphrases with multiple words into consideration as done in the\n",
    "    # paper - if two words are adjacent in the text and are selected as\n",
    "    # keywords, join them together\n",
    "    modified_key_phrases = set([])\n",
    "    # keeps track of individual keywords that have been joined to form a keyphrase\n",
    "#     i = k-1\n",
    "#     while i < len(textlist):\n",
    "#         consecutive = tuple(textlist[i-k+1:i+1])\n",
    "#         if all([word in keywords for word in consecutive]):\n",
    "#             modified_key_phrases.add(consecutive)\n",
    "#             if consecutive in phrase_freq.keys():\n",
    "#                 phrase_freq[consecutive] += 1\n",
    "#             else:\n",
    "#                 phrase_freq[consecutive] = 1\n",
    "#         i += 1\n",
    "\n",
    "    i = k-1\n",
    "    while i < len(doc):\n",
    "        consecutive = tuple([token.text for token in doc[i-k+1:i+1]])\n",
    "        if all([word in keywords for word in consecutive]):\n",
    "            modified_key_phrases.add(consecutive)\n",
    "            if consecutive in phrase_freq.keys():\n",
    "                phrase_freq[consecutive] += 1\n",
    "            else:\n",
    "                phrase_freq[consecutive] = 1\n",
    "        i += 1\n",
    "        \n",
    "    keyword_freq = {}\n",
    "    for token in doc:\n",
    "        if token.text in keywords:\n",
    "            if token.text in keyword_freq.keys():\n",
    "                keyword_freq[token.text] += 1\n",
    "            else:\n",
    "                keyword_freq[token.text] = 1\n",
    "                \n",
    "    return list(modified_key_phrases), keyword_freq"
   ]
  },
  {
   "cell_type": "code",
   "execution_count": 38,
   "metadata": {},
   "outputs": [],
   "source": [
    "keyphrases, freq = get_phrases(doc, keywords, k=2)"
   ]
  },
  {
   "cell_type": "code",
   "execution_count": 39,
   "metadata": {},
   "outputs": [
    {
     "data": {
      "text/plain": [
       "[('number', 'agreement'),\n",
       " ('ad', 'free'),\n",
       " ('number', 'Definition'),\n",
       " ('New', 'Yorker'),\n",
       " ('black', 'pebbles'),\n",
       " ('Dictionary', 'number')]"
      ]
     },
     "execution_count": 39,
     "metadata": {},
     "output_type": "execute_result"
    }
   ],
   "source": [
    "keyphrases[:20]"
   ]
  },
  {
   "cell_type": "code",
   "execution_count": 40,
   "metadata": {},
   "outputs": [],
   "source": [
    "phrase_scores = {}\n",
    "for p in keyphrases:\n",
    "#     print(p)\n",
    "    phrase_scores[p] = np.power(np.prod([phrase_freq[p] / freq[w] for w in p]), 1/len(p))"
   ]
  },
  {
   "cell_type": "code",
   "execution_count": 41,
   "metadata": {},
   "outputs": [],
   "source": [
    "sorted_phrases = sorted(phrase_scores, key=phrase_scores.get, reverse=True)"
   ]
  },
  {
   "cell_type": "code",
   "execution_count": 42,
   "metadata": {
    "scrolled": false
   },
   "outputs": [
    {
     "name": "stdout",
     "output_type": "stream",
     "text": [
      "('ad', 'free') 1.0\n",
      "('New', 'Yorker') 1.0\n",
      "('black', 'pebbles') 1.0\n",
      "('number', 'agreement') 0.1690308509457033\n",
      "('number', 'Definition') 0.09759000729485331\n",
      "('Dictionary', 'number') 0.09759000729485331\n"
     ]
    },
    {
     "data": {
      "image/png": "[encoded data removed]",
      "text/plain": [
       "<Figure size 360x720 with 1 Axes>"
      ]
     },
     "metadata": {
      "needs_background": "light"
     },
     "output_type": "display_data"
    }
   ],
   "source": [
    "plot_bar(sorted_phrases, phrase_scores, n=40)"
   ]
  },
  {
   "cell_type": "code",
   "execution_count": 43,
   "metadata": {},
   "outputs": [],
   "source": [
    "def get_top_half(sorted_list, scores):\n",
    "    score_sum = sum([scores[k] for k in sorted_list])\n",
    "    results = []\n",
    "    s = 0\n",
    "    i = 0\n",
    "    while s < 0.5:\n",
    "        norm_score = scores[sorted_list[i]] / score_sum\n",
    "        s += norm_score\n",
    "        results.append(sorted_list[i])\n",
    "        i += 1\n",
    "    return results"
   ]
  },
  {
   "cell_type": "code",
   "execution_count": 44,
   "metadata": {},
   "outputs": [],
   "source": [
    "top_phrases = get_top_half(sorted_phrases, phrase_scores)"
   ]
  },
  {
   "cell_type": "code",
   "execution_count": 45,
   "metadata": {},
   "outputs": [
    {
     "data": {
      "text/plain": [
       "[('ad', 'free'), ('New', 'Yorker')]"
      ]
     },
     "execution_count": 45,
     "metadata": {},
     "output_type": "execute_result"
    }
   ],
   "source": [
    "top_phrases"
   ]
  },
  {
   "cell_type": "markdown",
   "metadata": {},
   "source": [
    "### Add Phrases to Entity Rules"
   ]
  },
  {
   "cell_type": "code",
   "execution_count": 46,
   "metadata": {},
   "outputs": [],
   "source": [
    "for phrase in top_phrases:\n",
    "    pattern = ' '.join(phrase)\n",
    "    pattern_id = get_ent_id(pattern)\n",
    "    entity_patterns.append({'label':'CUSTOM', 'pattern': pattern, 'id':pattern_id})"
   ]
  },
  {
   "cell_type": "code",
   "execution_count": 47,
   "metadata": {
    "scrolled": false
   },
   "outputs": [
    {
     "data": {
      "text/plain": [
       "[{'label': 'CUSTOM', 'pattern': 'Verb', 'id': 'verb'},\n",
       " {'label': 'CUSTOM', 'pattern': 'New Yorker', 'id': 'new-yorker'},\n",
       " {'label': 'CUSTOM', 'pattern': 'Lily Tomlin', 'id': 'lily-tomlin'},\n",
       " {'label': 'CUSTOM', 'pattern': 'E. R. Black', 'id': 'e.-r.-black'},\n",
       " {'label': 'CUSTOM', 'pattern': 'Views', 'id': 'view'},\n",
       " {'label': 'CUSTOM', 'pattern': 'Merriam-Webster', 'id': 'merriam-webster'},\n",
       " {'label': 'CUSTOM', 'pattern': 'Middle English', 'id': 'middle-english'},\n",
       " {'label': 'CUSTOM', 'pattern': 'Anglo-French', 'id': 'anglo-french'},\n",
       " {'label': 'CUSTOM', 'pattern': 'Latin', 'id': 'latin'},\n",
       " {'label': 'CUSTOM', 'pattern': 'Num   ', 'id': 'num'},\n",
       " {'label': 'CUSTOM',\n",
       "  'pattern': 'Number Ten   Social Security',\n",
       "  'id': 'number-ten-social-security'},\n",
       " {'label': 'CUSTOM', 'pattern': 'Cite this Entry', 'id': 'cite-entry'},\n",
       " {'label': 'CUSTOM', 'pattern': 'Number', 'id': 'number'},\n",
       " {'label': 'CUSTOM', 'pattern': 'Merriam', 'id': 'merriam'},\n",
       " {'label': 'CUSTOM', 'pattern': 'English', 'id': 'english'},\n",
       " {'label': 'CUSTOM', 'pattern': 'Spanish', 'id': 'spanish'},\n",
       " {'label': 'CUSTOM',\n",
       "  'pattern': 'Nglish:  Translation',\n",
       "  'id': 'nglish-translation'},\n",
       " {'label': 'CUSTOM', 'pattern': 'Arabic', 'id': 'arabic'},\n",
       " {'label': 'CUSTOM', 'pattern': 'Britannica.com', 'id': 'britannica.com'},\n",
       " {'label': 'CUSTOM', 'pattern': 'Encyclopedia', 'id': 'encyclopedia'},\n",
       " {'label': 'CUSTOM', 'pattern': 'Comments', 'id': 'comment'},\n",
       " {'label': 'CUSTOM', 'pattern': 'Get Word of the', 'id': 'get-word'},\n",
       " {'label': 'CUSTOM', 'pattern': 'America', 'id': 'america'},\n",
       " {'label': 'CUSTOM',\n",
       "  'pattern': 'OTHER MERRIAM-WEBSTER DICTIONARIES',\n",
       "  'id': 'merriam-webster-dictionary'},\n",
       " {'label': 'CUSTOM', 'pattern': 'FOLLOW', 'id': 'follow'},\n",
       " {'label': 'CUSTOM', 'pattern': 'US', 'id': 'u'},\n",
       " {'label': 'CUSTOM', 'pattern': 'ad free', 'id': 'ad-free'},\n",
       " {'label': 'CUSTOM', 'pattern': 'New Yorker', 'id': 'new-yorker'}]"
      ]
     },
     "execution_count": 47,
     "metadata": {},
     "output_type": "execute_result"
    }
   ],
   "source": [
    "entity_patterns"
   ]
  },
  {
   "cell_type": "code",
   "execution_count": 52,
   "metadata": {},
   "outputs": [],
   "source": [
    "def capitalize_word(text):\n",
    "    return text[0:1].upper() + text[1:]\n",
    "\n",
    "def get_variants(ent_id):\n",
    "    \"\"\"\n",
    "    Given an entity id get capitalized and plural variants\n",
    "    \"\"\"\n",
    "\n",
    "    tokens = ent_id.split('-')\n",
    "    capitalized_tokens = [capitalize_word(word) for word in tokens]\n",
    "\n",
    "    variants = set([])\n",
    "    variants.add(' '.join(tokens))\n",
    "    variants.add(' '.join(capitalized_tokens))\n",
    "    variants.add(' '.join(tokens[:-1] + [inflection.pluralize(tokens[-1]),]))\n",
    "    variants.add(' '.join(capitalized_tokens[:-1] + [inflection.pluralize(capitalized_tokens[-1]),]))\n",
    "    return list(variants)"
   ]
  },
  {
   "cell_type": "code",
   "execution_count": 53,
   "metadata": {},
   "outputs": [],
   "source": [
    "def _deduplicated_variants(patterns):\n",
    "    all_patterns = []\n",
    "    pattern_set = set([])\n",
    "    ent_id_set = set([])\n",
    "\n",
    "    for pat in patterns:\n",
    "        if pat['pattern'] not in pattern_set:\n",
    "            all_patterns.append(pat)\n",
    "        pattern_set.add(pat['pattern'])\n",
    "\n",
    "        if pat['id'] not in ent_id_set:\n",
    "            for variant in get_variants(pat['id']):\n",
    "                if variant not in pattern_set:\n",
    "                    all_patterns.append({'label':'CUSTOM', 'pattern':variant, 'id':pat['id']})\n",
    "                pattern_set.add(variant)\n",
    "        ent_id_set.add(pat['id'])\n",
    "\n",
    "    return all_patterns"
   ]
  },
  {
   "cell_type": "code",
   "execution_count": 54,
   "metadata": {},
   "outputs": [],
   "source": [
    "patterns = _deduplicated_variants(entity_patterns)"
   ]
  },
  {
   "cell_type": "code",
   "execution_count": 55,
   "metadata": {},
   "outputs": [
    {
     "data": {
      "text/plain": [
       "[{'label': 'CUSTOM', 'pattern': 'Verb', 'id': 'verb'},\n",
       " {'label': 'CUSTOM', 'pattern': 'verbs', 'id': 'verb'},\n",
       " {'label': 'CUSTOM', 'pattern': 'verb', 'id': 'verb'},\n",
       " {'label': 'CUSTOM', 'pattern': 'Verbs', 'id': 'verb'},\n",
       " {'label': 'CUSTOM', 'pattern': 'New Yorker', 'id': 'new-yorker'},\n",
       " {'label': 'CUSTOM', 'pattern': 'New Yorkers', 'id': 'new-yorker'},\n",
       " {'label': 'CUSTOM', 'pattern': 'new yorker', 'id': 'new-yorker'},\n",
       " {'label': 'CUSTOM', 'pattern': 'new yorkers', 'id': 'new-yorker'},\n",
       " {'label': 'CUSTOM', 'pattern': 'Lily Tomlin', 'id': 'lily-tomlin'},\n",
       " {'label': 'CUSTOM', 'pattern': 'lily tomlins', 'id': 'lily-tomlin'},\n",
       " {'label': 'CUSTOM', 'pattern': 'Lily Tomlins', 'id': 'lily-tomlin'},\n",
       " {'label': 'CUSTOM', 'pattern': 'lily tomlin', 'id': 'lily-tomlin'},\n",
       " {'label': 'CUSTOM', 'pattern': 'E. R. Black', 'id': 'e.-r.-black'},\n",
       " {'label': 'CUSTOM', 'pattern': 'e. r. blacks', 'id': 'e.-r.-black'},\n",
       " {'label': 'CUSTOM', 'pattern': 'E. R. Blacks', 'id': 'e.-r.-black'},\n",
       " {'label': 'CUSTOM', 'pattern': 'e. r. black', 'id': 'e.-r.-black'},\n",
       " {'label': 'CUSTOM', 'pattern': 'Views', 'id': 'view'},\n",
       " {'label': 'CUSTOM', 'pattern': 'View', 'id': 'view'},\n",
       " {'label': 'CUSTOM', 'pattern': 'views', 'id': 'view'},\n",
       " {'label': 'CUSTOM', 'pattern': 'view', 'id': 'view'},\n",
       " {'label': 'CUSTOM', 'pattern': 'Merriam-Webster', 'id': 'merriam-webster'},\n",
       " {'label': 'CUSTOM', 'pattern': 'merriam websters', 'id': 'merriam-webster'},\n",
       " {'label': 'CUSTOM', 'pattern': 'Merriam Websters', 'id': 'merriam-webster'},\n",
       " {'label': 'CUSTOM', 'pattern': 'Merriam Webster', 'id': 'merriam-webster'},\n",
       " {'label': 'CUSTOM', 'pattern': 'merriam webster', 'id': 'merriam-webster'},\n",
       " {'label': 'CUSTOM', 'pattern': 'Middle English', 'id': 'middle-english'},\n",
       " {'label': 'CUSTOM', 'pattern': 'Middle Englishes', 'id': 'middle-english'},\n",
       " {'label': 'CUSTOM', 'pattern': 'middle english', 'id': 'middle-english'},\n",
       " {'label': 'CUSTOM', 'pattern': 'middle englishes', 'id': 'middle-english'},\n",
       " {'label': 'CUSTOM', 'pattern': 'Anglo-French', 'id': 'anglo-french'},\n",
       " {'label': 'CUSTOM', 'pattern': 'anglo french', 'id': 'anglo-french'},\n",
       " {'label': 'CUSTOM', 'pattern': 'Anglo Frenches', 'id': 'anglo-french'},\n",
       " {'label': 'CUSTOM', 'pattern': 'anglo frenches', 'id': 'anglo-french'},\n",
       " {'label': 'CUSTOM', 'pattern': 'Anglo French', 'id': 'anglo-french'},\n",
       " {'label': 'CUSTOM', 'pattern': 'Latin', 'id': 'latin'},\n",
       " {'label': 'CUSTOM', 'pattern': 'latin', 'id': 'latin'},\n",
       " {'label': 'CUSTOM', 'pattern': 'latins', 'id': 'latin'},\n",
       " {'label': 'CUSTOM', 'pattern': 'Latins', 'id': 'latin'},\n",
       " {'label': 'CUSTOM', 'pattern': 'Num   ', 'id': 'num'},\n",
       " {'label': 'CUSTOM', 'pattern': 'nums', 'id': 'num'},\n",
       " {'label': 'CUSTOM', 'pattern': 'num', 'id': 'num'},\n",
       " {'label': 'CUSTOM', 'pattern': 'Nums', 'id': 'num'},\n",
       " {'label': 'CUSTOM', 'pattern': 'Num', 'id': 'num'},\n",
       " {'label': 'CUSTOM',\n",
       "  'pattern': 'Number Ten   Social Security',\n",
       "  'id': 'number-ten-social-security'},\n",
       " {'label': 'CUSTOM',\n",
       "  'pattern': 'Number Ten Social Securities',\n",
       "  'id': 'number-ten-social-security'},\n",
       " {'label': 'CUSTOM',\n",
       "  'pattern': 'number ten social securities',\n",
       "  'id': 'number-ten-social-security'},\n",
       " {'label': 'CUSTOM',\n",
       "  'pattern': 'Number Ten Social Security',\n",
       "  'id': 'number-ten-social-security'},\n",
       " {'label': 'CUSTOM',\n",
       "  'pattern': 'number ten social security',\n",
       "  'id': 'number-ten-social-security'},\n",
       " {'label': 'CUSTOM', 'pattern': 'Cite this Entry', 'id': 'cite-entry'},\n",
       " {'label': 'CUSTOM', 'pattern': 'Cite Entries', 'id': 'cite-entry'},\n",
       " {'label': 'CUSTOM', 'pattern': 'Cite Entry', 'id': 'cite-entry'},\n",
       " {'label': 'CUSTOM', 'pattern': 'cite entries', 'id': 'cite-entry'},\n",
       " {'label': 'CUSTOM', 'pattern': 'cite entry', 'id': 'cite-entry'},\n",
       " {'label': 'CUSTOM', 'pattern': 'Number', 'id': 'number'},\n",
       " {'label': 'CUSTOM', 'pattern': 'number', 'id': 'number'},\n",
       " {'label': 'CUSTOM', 'pattern': 'Numbers', 'id': 'number'},\n",
       " {'label': 'CUSTOM', 'pattern': 'numbers', 'id': 'number'},\n",
       " {'label': 'CUSTOM', 'pattern': 'Merriam', 'id': 'merriam'},\n",
       " {'label': 'CUSTOM', 'pattern': 'Merriams', 'id': 'merriam'},\n",
       " {'label': 'CUSTOM', 'pattern': 'merriam', 'id': 'merriam'},\n",
       " {'label': 'CUSTOM', 'pattern': 'merriams', 'id': 'merriam'},\n",
       " {'label': 'CUSTOM', 'pattern': 'English', 'id': 'english'},\n",
       " {'label': 'CUSTOM', 'pattern': 'english', 'id': 'english'},\n",
       " {'label': 'CUSTOM', 'pattern': 'Englishes', 'id': 'english'},\n",
       " {'label': 'CUSTOM', 'pattern': 'englishes', 'id': 'english'},\n",
       " {'label': 'CUSTOM', 'pattern': 'Spanish', 'id': 'spanish'},\n",
       " {'label': 'CUSTOM', 'pattern': 'spanishes', 'id': 'spanish'},\n",
       " {'label': 'CUSTOM', 'pattern': 'Spanishes', 'id': 'spanish'},\n",
       " {'label': 'CUSTOM', 'pattern': 'spanish', 'id': 'spanish'},\n",
       " {'label': 'CUSTOM',\n",
       "  'pattern': 'Nglish:  Translation',\n",
       "  'id': 'nglish-translation'},\n",
       " {'label': 'CUSTOM',\n",
       "  'pattern': 'nglish translation',\n",
       "  'id': 'nglish-translation'},\n",
       " {'label': 'CUSTOM',\n",
       "  'pattern': 'nglish translations',\n",
       "  'id': 'nglish-translation'},\n",
       " {'label': 'CUSTOM',\n",
       "  'pattern': 'Nglish Translations',\n",
       "  'id': 'nglish-translation'},\n",
       " {'label': 'CUSTOM',\n",
       "  'pattern': 'Nglish Translation',\n",
       "  'id': 'nglish-translation'},\n",
       " {'label': 'CUSTOM', 'pattern': 'Arabic', 'id': 'arabic'},\n",
       " {'label': 'CUSTOM', 'pattern': 'arabics', 'id': 'arabic'},\n",
       " {'label': 'CUSTOM', 'pattern': 'Arabics', 'id': 'arabic'},\n",
       " {'label': 'CUSTOM', 'pattern': 'arabic', 'id': 'arabic'},\n",
       " {'label': 'CUSTOM', 'pattern': 'Britannica.com', 'id': 'britannica.com'},\n",
       " {'label': 'CUSTOM', 'pattern': 'britannica.com', 'id': 'britannica.com'},\n",
       " {'label': 'CUSTOM', 'pattern': 'britannica.coms', 'id': 'britannica.com'},\n",
       " {'label': 'CUSTOM', 'pattern': 'Britannica.coms', 'id': 'britannica.com'},\n",
       " {'label': 'CUSTOM', 'pattern': 'Encyclopedia', 'id': 'encyclopedia'},\n",
       " {'label': 'CUSTOM', 'pattern': 'encyclopedia', 'id': 'encyclopedia'},\n",
       " {'label': 'CUSTOM', 'pattern': 'Comments', 'id': 'comment'},\n",
       " {'label': 'CUSTOM', 'pattern': 'comment', 'id': 'comment'},\n",
       " {'label': 'CUSTOM', 'pattern': 'Comment', 'id': 'comment'},\n",
       " {'label': 'CUSTOM', 'pattern': 'comments', 'id': 'comment'},\n",
       " {'label': 'CUSTOM', 'pattern': 'Get Word of the', 'id': 'get-word'},\n",
       " {'label': 'CUSTOM', 'pattern': 'get words', 'id': 'get-word'},\n",
       " {'label': 'CUSTOM', 'pattern': 'Get Word', 'id': 'get-word'},\n",
       " {'label': 'CUSTOM', 'pattern': 'get word', 'id': 'get-word'},\n",
       " {'label': 'CUSTOM', 'pattern': 'Get Words', 'id': 'get-word'},\n",
       " {'label': 'CUSTOM', 'pattern': 'America', 'id': 'america'},\n",
       " {'label': 'CUSTOM', 'pattern': 'america', 'id': 'america'},\n",
       " {'label': 'CUSTOM', 'pattern': 'Americas', 'id': 'america'},\n",
       " {'label': 'CUSTOM', 'pattern': 'americas', 'id': 'america'},\n",
       " {'label': 'CUSTOM',\n",
       "  'pattern': 'OTHER MERRIAM-WEBSTER DICTIONARIES',\n",
       "  'id': 'merriam-webster-dictionary'},\n",
       " {'label': 'CUSTOM',\n",
       "  'pattern': 'merriam webster dictionaries',\n",
       "  'id': 'merriam-webster-dictionary'},\n",
       " {'label': 'CUSTOM',\n",
       "  'pattern': 'Merriam Webster Dictionary',\n",
       "  'id': 'merriam-webster-dictionary'},\n",
       " {'label': 'CUSTOM',\n",
       "  'pattern': 'merriam webster dictionary',\n",
       "  'id': 'merriam-webster-dictionary'},\n",
       " {'label': 'CUSTOM',\n",
       "  'pattern': 'Merriam Webster Dictionaries',\n",
       "  'id': 'merriam-webster-dictionary'},\n",
       " {'label': 'CUSTOM', 'pattern': 'FOLLOW', 'id': 'follow'},\n",
       " {'label': 'CUSTOM', 'pattern': 'follow', 'id': 'follow'},\n",
       " {'label': 'CUSTOM', 'pattern': 'Follow', 'id': 'follow'},\n",
       " {'label': 'CUSTOM', 'pattern': 'follows', 'id': 'follow'},\n",
       " {'label': 'CUSTOM', 'pattern': 'Follows', 'id': 'follow'},\n",
       " {'label': 'CUSTOM', 'pattern': 'US', 'id': 'u'},\n",
       " {'label': 'CUSTOM', 'pattern': 'us', 'id': 'u'},\n",
       " {'label': 'CUSTOM', 'pattern': 'u', 'id': 'u'},\n",
       " {'label': 'CUSTOM', 'pattern': 'Us', 'id': 'u'},\n",
       " {'label': 'CUSTOM', 'pattern': 'U', 'id': 'u'},\n",
       " {'label': 'CUSTOM', 'pattern': 'ad free', 'id': 'ad-free'},\n",
       " {'label': 'CUSTOM', 'pattern': 'Ad Frees', 'id': 'ad-free'},\n",
       " {'label': 'CUSTOM', 'pattern': 'ad frees', 'id': 'ad-free'},\n",
       " {'label': 'CUSTOM', 'pattern': 'Ad Free', 'id': 'ad-free'}]"
      ]
     },
     "execution_count": 55,
     "metadata": {},
     "output_type": "execute_result"
    }
   ],
   "source": [
    "patterns"
   ]
  },
  {
   "cell_type": "markdown",
   "metadata": {},
   "source": [
    "## Dependency TextRank"
   ]
  },
  {
   "cell_type": "code",
   "execution_count": 49,
   "metadata": {},
   "outputs": [],
   "source": [
    "ruler = EntityRuler(nlp)\n",
    "# ruler.add_patterns(entity_patterns)\n",
    "\n",
    "other_pipes = [p for p in nlp.pipe_names if p != \"tagger\"]\n",
    "with nlp.disable_pipes(*other_pipes):\n",
    "    ruler.add_patterns(entity_patterns)\n",
    "\n",
    "nlp.add_pipe(ruler, before='ner')\n",
    "modified_doc = nlp(text)"
   ]
  },
  {
   "cell_type": "code",
   "execution_count": 50,
   "metadata": {},
   "outputs": [],
   "source": [
    "# for ent in modified_doc.ents:\n",
    "#     if ent.label_ not in skiplabels:\n",
    "#         print(ent.text, ent.label_, ent.ent_id_)"
   ]
  },
  {
   "cell_type": "code",
   "execution_count": 51,
   "metadata": {},
   "outputs": [],
   "source": [
    "with modified_doc.retokenize() as retokenizer:\n",
    "    for ent in modified_doc.ents:\n",
    "        retokenizer.merge(ent)"
   ]
  },
  {
   "cell_type": "code",
   "execution_count": 52,
   "metadata": {},
   "outputs": [],
   "source": [
    "# displacy.render(modified_doc, style=\"ent\")"
   ]
  },
  {
   "cell_type": "code",
   "execution_count": 53,
   "metadata": {
    "scrolled": false
   },
   "outputs": [],
   "source": [
    "# displacy.render(modified_doc[:200], style=\"dep\")"
   ]
  },
  {
   "cell_type": "code",
   "execution_count": 54,
   "metadata": {},
   "outputs": [
    {
     "name": "stdout",
     "output_type": "stream",
     "text": [
      "['word']\n",
      "['entry', 'number', 'game']\n",
      "['number']\n",
      "['definition', 'number']\n",
      "['entry', 'verb']\n",
      "['verb']\n",
      "[]\n",
      "['verb', 'synonyms']\n",
      "['noun', 'synonyms']\n",
      "['verb', 'noun']\n",
      "['number', 'count', 'noun']\n",
      "['number', 'mistake']\n",
      "['number', 'time', 'amount', 'mass', 'noun']\n",
      "['amount', 'rainfall', 'money']\n",
      "['use', 'amount', 'count', 'noun', 'number', 'thing', 'mass', 'collection', 'black-pebble', 'new-yorker']\n",
      "['amount', 'film']\n",
      "['lily-tomlin', 'money']\n",
      "['amount', 'loan', 'e.-r.-black']\n",
      "['example', 'sentence', 'news', 'source', 'usage', 'word', 'number']\n",
      "['view', 'example', 'opinion', 'merriam-webster', 'editor']\n",
      "[]\n",
      "['noun']\n",
      "['14th century', 'meaning', 'sense']\n",
      "['verb']\n",
      "['14th century', 'meaning', 'sense']\n",
      "['noun', 'verb']\n",
      "['middle-english', 'nombre', 'anglo-french', 'latin', 'numerus']\n",
      "['Share', 'number', 'Time', 'Traveler']\n",
      "['word', 'the same century']\n",
      "['num']\n",
      "['numbat', 'number', 'agreement']\n",
      "['number', 'board', 'cruncher']\n",
      "['number-ten-social-security', 'number']\n",
      "['number']\n",
      "['number']\n",
      "['number', 'popularity']\n",
      "['entry']\n",
      "['Number']\n",
      "['merriam-webster.com', 'Dictionary', 'merriam-webster', 'https://www.merriam-webster.com/dictionary/number']\n",
      "['April']\n",
      "[]\n",
      "['definition', 'number']\n",
      "['entry', 'number']\n",
      "['english', 'Language', 'Learners', 'Definition', 'number']\n",
      "['entry', 'definition', 'number', 'english', 'Language', 'Learners', 'Dictionary']\n",
      "['entry', 'number']\n",
      "['Kids', 'Definition', 'number']\n",
      "['entry']\n",
      "['merriam-webster', 'number', 'Thesaurus', 'synonyms', 'antonyms']\n",
      "['Dictionary', 'word', 'number', 'Central', 'translation']\n",
      "['Nglish', 'translation', 'number', 'Speakers']\n",
      "['Britannica', 'english']\n",
      "['translation', 'number', 'arabic', 'Speakers', 'Britannica.com']\n",
      "['encyclopedia', 'article', 'number']\n",
      "['comment', 'number']\n",
      "['number']\n",
      "['quote']\n",
      "['Definitions', 'Examples', '»']\n",
      "['Day', 'email']\n",
      "['Difficult', 'Vocab', 'Quiz']\n",
      "['word']\n",
      "['knowledge', 'thing', 'way']\n",
      "['subscribe', 'america', 'thousand', 'definition', 'search', 'ad']\n",
      "['word', 'the week of 4/24/2020']\n",
      "['book']\n",
      "['tongue', 'fan']\n",
      "['way', 'time']\n",
      "['answer']\n",
      "[]\n",
      "['word', 'people']\n",
      "['case']\n",
      "['round', 'vocab', 'Sick', 'news']\n",
      "['picture', 'baby', 'animal']\n",
      "['word']\n",
      "['person', 'title']\n",
      "['quote']\n",
      "['word', 'every day']\n",
      "['inbox']\n",
      "['merriam', 'webster', 'dictionary']\n",
      "['u']\n",
      "['©']\n",
      "['merriam-webster', 'Incorporated']\n"
     ]
    }
   ],
   "source": [
    "unique_word_set = set([])\n",
    "edges = {}\n",
    "\n",
    "for s in modified_doc.sents:\n",
    "#     unique_nouns = set([])\n",
    "    noun_list = []\n",
    "    for token in s:\n",
    "        if token.pos_ in ['NOUN', 'PROPN', 'X']:\n",
    "            if token.ent_id_ != '':\n",
    "                noun = token.ent_id_\n",
    "            else:\n",
    "                noun = token.lemma_\n",
    "#             print(token.lemma_)\n",
    "            if noun not in noun_list:\n",
    "                noun_list.append(noun)\n",
    "    print(noun_list)\n",
    "    \n",
    "    unique_word_set.update(noun_list)\n",
    "\n",
    "    for pair in itertools.combinations(noun_list, 2):\n",
    "        if pair in edges.keys():\n",
    "            edges[pair] += 1\n",
    "        else:\n",
    "            edges[pair] = 1"
   ]
  },
  {
   "cell_type": "code",
   "execution_count": 54,
   "metadata": {},
   "outputs": [],
   "source": [
    "gr = nx.DiGraph()  # initialize an undirected graph\n",
    "gr.add_nodes_from(unique_word_set)\n",
    "\n",
    "for key, weight in edges.items():\n",
    "    gr.add_edge(key[0], key[1], weight=weight)"
   ]
  },
  {
   "cell_type": "code",
   "execution_count": 55,
   "metadata": {},
   "outputs": [
    {
     "data": {
      "text/plain": [
       "113"
      ]
     },
     "execution_count": 55,
     "metadata": {},
     "output_type": "execute_result"
    }
   ],
   "source": [
    "len(gr.nodes)"
   ]
  },
  {
   "cell_type": "code",
   "execution_count": 56,
   "metadata": {},
   "outputs": [],
   "source": [
    "calculated_page_rank = nx.pagerank(gr, weight='weight')"
   ]
  },
  {
   "cell_type": "code",
   "execution_count": 57,
   "metadata": {},
   "outputs": [],
   "source": [
    "all_keywords = sorted(calculated_page_rank, key=calculated_page_rank.get,reverse=True)"
   ]
  },
  {
   "cell_type": "code",
   "execution_count": 58,
   "metadata": {
    "scrolled": false
   },
   "outputs": [
    {
     "name": "stdout",
     "output_type": "stream",
     "text": [
      "number 0.07168820476392783\n",
      "new-yorker 0.041203158569099674\n",
      "Britannica.com 0.027915091003859804\n",
      "antonyms 0.02347428832405252\n",
      "black-pebble 0.02227200077715496\n",
      "noun 0.020986562873996785\n",
      "translation 0.01946197009354904\n",
      "Speakers 0.018229058298987653\n",
      "mass 0.017854875060233442\n",
      "word 0.017554895501175127\n",
      "numerus 0.016634229986085294\n",
      "collection 0.01562964534047432\n",
      "synonyms 0.01540997603786469\n",
      "ad 0.015002155693398524\n",
      "news 0.014951690377524354\n",
      "Dictionary 0.014657435754043352\n",
      "Traveler 0.013149232736181703\n",
      "Learners 0.012777816226487033\n",
      "time 0.012545201866018613\n",
      "Definition 0.012287769502969313\n",
      "money 0.011985855778025726\n",
      "thing 0.011589035967219177\n",
      "cruncher 0.011023635101331506\n",
      "merriam-webster 0.010893172379482391\n",
      "usage 0.010862776704464842\n",
      "animal 0.010690073526907843\n",
      "Quiz 0.010690073526907843\n",
      "dictionary 0.010690073526907843\n",
      "sense 0.010690073526907843\n",
      "» 0.010690073526907843\n",
      "english 0.01044581771725905\n",
      "Central 0.009899719797392981\n",
      "amount 0.009896215772665796\n",
      "Language 0.00953579933377714\n",
      "latin 0.00899139711521107\n",
      "editor 0.008990686477192625\n",
      "arabic 0.008715460406301011\n",
      "https://www.merriam-webster.com/dictionary/number 0.00860281309624097\n",
      "e.-r.-black 0.00853900942871095\n",
      "source 0.008464684144808662\n",
      "search 0.008109193552844436\n",
      "way 0.007748349550257062\n",
      "definition 0.007695700499416579\n",
      "agreement 0.007682202152934756\n",
      "title 0.0075016770746325475\n",
      "fan 0.0075016770746325475\n",
      "email 0.0075016770746325475\n",
      "Sick 0.007415527108952722\n",
      "Thesaurus 0.007281527212594083\n",
      "Time 0.0071077277613822935\n"
     ]
    },
    {
     "data": {
      "image/png": "[encoded data removed]",
      "text/plain": [
       "<Figure size 360x720 with 1 Axes>"
      ]
     },
     "metadata": {
      "needs_background": "light"
     },
     "output_type": "display_data"
    }
   ],
   "source": [
    "plot_bar(all_keywords, calculated_page_rank, n=50)"
   ]
  },
  {
   "cell_type": "code",
   "execution_count": null,
   "metadata": {},
   "outputs": [],
   "source": []
  }
 ],
 "metadata": {
  "kernelspec": {
   "display_name": "Python 3",
   "language": "python",
   "name": "python3"
  },
  "language_info": {
   "codemirror_mode": {
    "name": "ipython",
    "version": 3
   },
   "file_extension": ".py",
   "mimetype": "text/x-python",
   "name": "python",
   "nbconvert_exporter": "python",
   "pygments_lexer": "ipython3",
   "version": "3.7.4"
  },
  "latex_envs": {
   "LaTeX_envs_menu_present": true,
   "autoclose": false,
   "autocomplete": true,
   "bibliofile": "biblio.bib",
   "cite_by": "apalike",
   "current_citInitial": 1,
   "eqLabelWithNumbers": true,
   "eqNumInitial": 1,
   "hotkeys": {
    "equation": "Ctrl-E",
    "itemize": "Ctrl-I"
   },
   "labels_anchors": false,
   "latex_user_defs": false,
   "report_style_numbering": false,
   "user_envs_cfg": false
  },
  "toc": {
   "base_numbering": 1,
   "nav_menu": {},
   "number_sections": true,
   "sideBar": true,
   "skip_h1_title": false,
   "title_cell": "Table of Contents",
   "title_sidebar": "Contents",
   "toc_cell": false,
   "toc_position": {
    "height": "calc(100% - 180px)",
    "left": "10px",
    "top": "150px",
    "width": "215.1px"
   },
   "toc_section_display": true,
   "toc_window_display": true
  }
 },
 "nbformat": 4,
 "nbformat_minor": 2
}
