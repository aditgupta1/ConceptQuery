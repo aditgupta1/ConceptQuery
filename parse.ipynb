{
 "cells": [
  {
   "cell_type": "code",
   "execution_count": 54,
   "metadata": {},
   "outputs": [],
   "source": [
    "import io\n",
    "import itertools\n",
    "import networkx as nx\n",
    "import nltk\n",
    "import os\n",
    "import numpy as np\n",
    "import time\n",
    "import json\n",
    "\n",
    "import matplotlib.pyplot as plt\n",
    "# from rake_nltk import Rake\n",
    "# from nltk.stem.snowball import SnowballStemmer\n",
    "# from inflection import singularize, pluralize\n",
    "from nltk.corpus import words, gutenberg, wordnet, reuters, webtext\n",
    "import inflect\n",
    "from nltk.corpus import wordnet as wn"
   ]
  },
  {
   "cell_type": "code",
   "execution_count": 2,
   "metadata": {},
   "outputs": [],
   "source": [
    "with open('sample.txt', 'r') as f:\n",
    "    text = f.read().lower()"
   ]
  },
  {
   "cell_type": "code",
   "execution_count": 3,
   "metadata": {},
   "outputs": [],
   "source": [
    "def filter_for_tags(tagged, tags=['NN', 'NNS', 'JJ', 'NNP', 'NNPS']):\n",
    "    \"\"\"Apply syntactic filters based on POS tags.\"\"\"\n",
    "    return [item[0] for item in tagged if item[1] in tags]"
   ]
  },
  {
   "cell_type": "code",
   "execution_count": 4,
   "metadata": {},
   "outputs": [],
   "source": [
    "stopwords = nltk.corpus.stopwords.words('english')"
   ]
  },
  {
   "cell_type": "code",
   "execution_count": 5,
   "metadata": {},
   "outputs": [],
   "source": [
    "sentences = nltk.sent_tokenize(text)"
   ]
  },
  {
   "cell_type": "code",
   "execution_count": 6,
   "metadata": {},
   "outputs": [
    {
     "data": {
      "text/plain": [
       "[' \\npredictive modeling with deep learning is a skill that modern developers need to know.',\n",
       " 'tensorflow is the premier open-source deep learning framework developed and maintained by google.',\n",
       " 'although using tensorflow directly can be challenging, the modern tf.keras api beings the simplicity and ease of use of keras to the tensorflow project.',\n",
       " 'using tf.keras allows you to design, fit, evaluate, and use deep learning models to make predictions in just a few lines of code.',\n",
       " 'it makes common deep learning tasks, such as classification and regression predictive modeling, accessible to average developers looking to get things done.']"
      ]
     },
     "execution_count": 6,
     "metadata": {},
     "output_type": "execute_result"
    }
   ],
   "source": [
    "sentences[:5]"
   ]
  },
  {
   "cell_type": "code",
   "execution_count": 7,
   "metadata": {},
   "outputs": [],
   "source": [
    "def plot_bar(sorted_arr, scores, n=50):\n",
    "    labels = []\n",
    "    width = []\n",
    "    for kp in sorted_arr[:n]:\n",
    "        print(kp, scores[kp])\n",
    "        labels.append(' '.join(kp) if isinstance(kp, tuple) or isinstance(kp, list) else kp)\n",
    "        width.append(scores[kp])\n",
    "        \n",
    "    plt.figure(figsize=(5,10))\n",
    "    plt.barh(range(len(labels), 0,-1), width=width, tick_label=labels)\n",
    "    plt.show()"
   ]
  },
  {
   "cell_type": "markdown",
   "metadata": {},
   "source": [
    "## Corpus"
   ]
  },
  {
   "cell_type": "code",
   "execution_count": 8,
   "metadata": {},
   "outputs": [],
   "source": [
    "# nltk.download('wordnet')\n",
    "english_words = list(words.words())\n",
    "# gutenberg_words = gutenberg.words('austen-emma.txt')\n",
    "wordnet_words = list(wn.words())"
   ]
  },
  {
   "cell_type": "code",
   "execution_count": 9,
   "metadata": {},
   "outputs": [
    {
     "data": {
      "text/plain": [
       "236736"
      ]
     },
     "execution_count": 9,
     "metadata": {},
     "output_type": "execute_result"
    }
   ],
   "source": [
    "len(english_words)"
   ]
  },
  {
   "cell_type": "code",
   "execution_count": 10,
   "metadata": {},
   "outputs": [],
   "source": [
    "def is_noun(word):\n",
    "    synsets = wn.synsets(word, pos='n')\n",
    "    if len(synsets) == 0:\n",
    "        return False\n",
    "    \n",
    "    for s in synsets:\n",
    "        syn_word = s.name().split('.')[0]\n",
    "        if word == syn_word:\n",
    "            return True\n",
    "    return False"
   ]
  },
  {
   "cell_type": "code",
   "execution_count": 11,
   "metadata": {
    "scrolled": false
   },
   "outputs": [
    {
     "name": "stdout",
     "output_type": "stream",
     "text": [
      "10000 0.21146106719970703\n",
      "20000 0.47974348068237305\n",
      "30000 0.7330622673034668\n",
      "40000 0.9684114456176758\n",
      "50000 1.2931299209594727\n",
      "60000 1.502126932144165\n",
      "70000 1.698601484298706\n",
      "80000 1.9259932041168213\n",
      "90000 2.2172152996063232\n",
      "100000 2.3807802200317383\n",
      "110000 2.597287178039551\n",
      "120000 2.793797492980957\n",
      "130000 2.940952777862549\n",
      "140000 3.083571195602417\n",
      "150000 3.2571096420288086\n",
      "160000 3.392745018005371\n",
      "170000 3.6809744834899902\n",
      "180000 3.8784477710723877\n",
      "190000 4.082184314727783\n",
      "200000 4.236884593963623\n",
      "210000 4.405994892120361\n",
      "220000 4.45941162109375\n",
      "230000 4.562139511108398\n"
     ]
    }
   ],
   "source": [
    "plural_to_singular = {}\n",
    "\n",
    "p = inflect.engine()\n",
    "start = time.time()\n",
    "for i, word in enumerate(english_words):\n",
    "    if word not in plural_to_singular.keys() and is_noun(word):\n",
    "        plural_form = p.plural(word)\n",
    "        plural_to_singular[plural_form] = word\n",
    "    if (i+1) % 10000 == 0:\n",
    "        print(i+1, time.time() - start)"
   ]
  },
  {
   "cell_type": "code",
   "execution_count": 57,
   "metadata": {},
   "outputs": [],
   "source": [
    "with open('plural_to_singular.json', 'w') as f:\n",
    "    json.dump(plural_to_singular, f)"
   ]
  },
  {
   "cell_type": "code",
   "execution_count": 12,
   "metadata": {},
   "outputs": [
    {
     "data": {
      "text/plain": [
       "'thank'"
      ]
     },
     "execution_count": 12,
     "metadata": {},
     "output_type": "execute_result"
    }
   ],
   "source": [
    "# is_noun('thanks')\n",
    "p.plural('thanks')"
   ]
  },
  {
   "cell_type": "code",
   "execution_count": 13,
   "metadata": {},
   "outputs": [
    {
     "name": "stderr",
     "output_type": "stream",
     "text": [
      "[nltk_data] Downloading package reuters to\n",
      "[nltk_data]     C:\\Users\\19196\\AppData\\Roaming\\nltk_data...\n",
      "[nltk_data]   Package reuters is already up-to-date!\n"
     ]
    }
   ],
   "source": [
    "nltk.download('reuters')\n",
    "fileids = reuters.fileids()"
   ]
  },
  {
   "cell_type": "code",
   "execution_count": 14,
   "metadata": {},
   "outputs": [
    {
     "name": "stdout",
     "output_type": "stream",
     "text": [
      "1000 0.8377602100372314\n",
      "2000 1.689985990524292\n",
      "3000 2.3851263523101807\n",
      "4000 3.277272939682007\n",
      "5000 4.076361894607544\n",
      "6000 4.886272430419922\n",
      "7000 5.734560966491699\n",
      "8000 6.533668041229248\n",
      "9000 7.363065719604492\n",
      "10000 8.204815149307251\n"
     ]
    }
   ],
   "source": [
    "reuters_word_doc_freq = {}\n",
    "for word in english_words:\n",
    "    reuters_word_doc_freq[word] = 0\n",
    "\n",
    "english_words_set = set(english_words)\n",
    "start = time.time()\n",
    "\n",
    "for i, fid in enumerate(fileids):\n",
    "    article = reuters.raw(fileids=[fid]).lower()\n",
    "    word_tokens = set([])\n",
    "    for w in nltk.word_tokenize(article):\n",
    "        if w in english_words_set:\n",
    "            if w in plural_to_singular.keys():\n",
    "                word_tokens.add(plural_to_singular[w])\n",
    "            else:\n",
    "                word_tokens.add(w)\n",
    "            \n",
    "    for word in list(word_tokens):\n",
    "        reuters_word_doc_freq[word] += 1 / len(fileids)\n",
    "        \n",
    "    if (i+1) % 1000 == 0:\n",
    "        print(i+1, time.time() - start)"
   ]
  },
  {
   "cell_type": "code",
   "execution_count": 15,
   "metadata": {},
   "outputs": [
    {
     "data": {
      "text/plain": [
       "0.02493511308861689"
      ]
     },
     "execution_count": 15,
     "metadata": {},
     "output_type": "execute_result"
    }
   ],
   "source": [
    "reuters_word_doc_freq['use']"
   ]
  },
  {
   "cell_type": "code",
   "execution_count": 16,
   "metadata": {},
   "outputs": [],
   "source": [
    "reuters_sorted_words = sorted(reuters_word_doc_freq, key=reuters_word_doc_freq.get,reverse=True)\n",
    "reuters_common_words = [w for w in reuters_sorted_words if w not in stopwords][:1000]"
   ]
  },
  {
   "cell_type": "code",
   "execution_count": 17,
   "metadata": {
    "scrolled": false
   },
   "outputs": [
    {
     "name": "stdout",
     "output_type": "stream",
     "text": [
      "said 0.6288468668891306\n",
      "year 0.3166481275491555\n",
      "net 0.26742677048574465\n",
      "company 0.2345198368557807\n",
      "corp 0.23155357804969945\n",
      "would 0.19670003707824468\n",
      "last 0.18010752688172765\n",
      "one 0.16611049314053172\n",
      "also 0.16564701520208153\n",
      "share 0.15906562847608874\n",
      "billion 0.1563774564330776\n",
      "two 0.15507971820541705\n",
      "new 0.14831294030404418\n",
      "stock 0.14608824619948324\n",
      "note 0.13589173155357892\n",
      "market 0.13320355951056778\n",
      "may 0.12986651835372637\n",
      "march 0.12940304041527617\n",
      "loss 0.12838338895068574\n",
      "bank 0.12328513162773384\n",
      "per 0.11827956989247247\n",
      "group 0.11281053021876097\n",
      "told 0.10910270671115996\n",
      "first 0.10539488320355894\n",
      "three 0.10187245087133798\n",
      "trade 0.10187245087133798\n",
      "today 0.10038932146829757\n",
      "record 0.10029662588060755\n",
      "profit 0.09723767148683671\n",
      "oil 0.0950129773822761\n",
      "international 0.0942714126807559\n",
      "price 0.09306637004078556\n",
      "agreement 0.09288097886540551\n",
      "exchange 0.09269558769002546\n",
      "five 0.0888023730070444\n",
      "could 0.08861698183166435\n",
      "total 0.0880608083055242\n",
      "current 0.08527994067482343\n",
      "nine 0.08527994067482343\n",
      "government 0.0851872450871334\n",
      "six 0.08453837597330323\n",
      "added 0.0833333333333329\n",
      "week 0.0825917686318127\n",
      "rate 0.08092324805339224\n",
      "increase 0.07916203188728176\n",
      "quarter 0.07842046718576155\n",
      "interest 0.07703003337041117\n",
      "made 0.07378568780126028\n",
      "pay 0.07369299221357026\n",
      "board 0.07332220986281016\n"
     ]
    },
    {
     "data": {
      "image/png": "[encoded data removed]",
      "text/plain": [
       "<Figure size 360x720 with 1 Axes>"
      ]
     },
     "metadata": {
      "needs_background": "light"
     },
     "output_type": "display_data"
    }
   ],
   "source": [
    "plot_bar(reuters_common_words, reuters_word_doc_freq, n=50)"
   ]
  },
  {
   "cell_type": "code",
   "execution_count": 18,
   "metadata": {},
   "outputs": [
    {
     "name": "stdout",
     "output_type": "stream",
     "text": [
      "3653\n",
      "1000 0.23395729064941406\n",
      "2000 0.36513686180114746\n",
      "3000 0.4858427047729492\n"
     ]
    }
   ],
   "source": [
    "austen_word_sent_freq = {}\n",
    "for word in english_words:\n",
    "    austen_word_sent_freq[word] = 0\n",
    "\n",
    "english_words_set = set(english_words)\n",
    "start = time.time()\n",
    "austen_sentences = nltk.sent_tokenize(gutenberg.raw('austen-persuasion.txt').lower())\n",
    "print(len(austen_sentences))\n",
    "\n",
    "for i, s in enumerate(austen_sentences):\n",
    "    word_tokens = set([])\n",
    "    for w in nltk.word_tokenize(s):\n",
    "        if w in english_words_set:\n",
    "            if w in plural_to_singular.keys():\n",
    "                word_tokens.add(plural_to_singular[w])\n",
    "            else:\n",
    "                word_tokens.add(w)\n",
    "            \n",
    "    for word in list(word_tokens):\n",
    "        austen_word_sent_freq[word] += 1 / len(austen_sentences)\n",
    "        \n",
    "    if (i+1) % 1000 == 0:\n",
    "        print(i+1, time.time() - start)"
   ]
  },
  {
   "cell_type": "code",
   "execution_count": 19,
   "metadata": {},
   "outputs": [
    {
     "name": "stdout",
     "output_type": "stream",
     "text": [
      "could 0.11278401313988455\n",
      "would 0.08787298111141517\n",
      "captain 0.07254311524774171\n",
      "lady 0.06186695866411196\n",
      "one 0.05995072543115273\n",
      "must 0.05748699698877657\n",
      "dos 0.054749520941691956\n",
      "much 0.05420202573227503\n",
      "little 0.04681084040514657\n",
      "said 0.04653709280043811\n",
      "time 0.04407336435806195\n",
      "good 0.042978373939228105\n",
      "might 0.042978373939228105\n",
      "man 0.0416096359156858\n",
      "think 0.039693402682726565\n",
      "never 0.03914590747330964\n",
      "well 0.03832466465918426\n",
      "sir 0.038050917054475795\n",
      "nothing 0.036134683821516564\n",
      "mary 0.03558718861209964\n",
      "walter 0.03558718861209964\n",
      "great 0.03394470298384887\n",
      "know 0.03367095537914041\n",
      "see 0.033123460169723486\n",
      "miss 0.032849712565015024\n",
      "soon 0.0323022173555981\n",
      "father 0.030933479332055796\n",
      "though 0.03038598412263888\n",
      "quite 0.03011223651793042\n",
      "first 0.029838488913221963\n",
      "two 0.029838488913221963\n",
      "always 0.02737476047084584\n",
      "bath 0.026279770052012007\n",
      "without 0.026279770052012007\n",
      "made 0.02573227484259509\n",
      "every 0.025458527237886632\n",
      "day 0.024911032028469716\n",
      "long 0.024637284423761258\n",
      "however 0.0243635368190528\n",
      "say 0.02408978921434434\n",
      "thought 0.02408978921434434\n",
      "last 0.023542294004927425\n",
      "better 0.023268546400218967\n",
      "make 0.023268546400218967\n",
      "go 0.02299479879551051\n",
      "way 0.02299479879551051\n",
      "house 0.02272105119080205\n",
      "found 0.022173555981385134\n",
      "home 0.022173555981385134\n",
      "may 0.022173555981385134\n"
     ]
    },
    {
     "data": {
      "image/png": "[encoded data removed]",
      "text/plain": [
       "<Figure size 360x720 with 1 Axes>"
      ]
     },
     "metadata": {
      "needs_background": "light"
     },
     "output_type": "display_data"
    }
   ],
   "source": [
    "austen_sorted_words = sorted(austen_word_sent_freq, key=austen_word_sent_freq.get,reverse=True)\n",
    "austen_commmon_words = [w for w in austen_sorted_words if w not in stopwords][:1000]\n",
    "plot_bar(austen_commmon_words, austen_word_sent_freq, n=50)"
   ]
  },
  {
   "cell_type": "code",
   "execution_count": 20,
   "metadata": {},
   "outputs": [],
   "source": [
    "common_words = []\n",
    "for word in austen_commmon_words:\n",
    "    if word in reuters_common_words:\n",
    "        common_words.append(word)"
   ]
  },
  {
   "cell_type": "code",
   "execution_count": 21,
   "metadata": {},
   "outputs": [
    {
     "data": {
      "text/plain": [
       "False"
      ]
     },
     "execution_count": 21,
     "metadata": {},
     "output_type": "execute_result"
    }
   ],
   "source": [
    "'thanks' in common_words"
   ]
  },
  {
   "cell_type": "code",
   "execution_count": 53,
   "metadata": {},
   "outputs": [],
   "source": [
    "with open('common.txt', 'w') as f:\n",
    "    for word in common_words:\n",
    "        f.write(word + '\\n')"
   ]
  },
  {
   "cell_type": "markdown",
   "metadata": {},
   "source": [
    "## Words"
   ]
  },
  {
   "cell_type": "code",
   "execution_count": 22,
   "metadata": {},
   "outputs": [],
   "source": [
    "def get_word_list(sentence):\n",
    "    word_tokens = []\n",
    "    for w in nltk.word_tokenize(sentence):\n",
    "        if len(w) > 1 and w not in stopwords and w not in common_words:\n",
    "            if w in plural_to_singular.keys():\n",
    "                word_tokens.append(plural_to_singular[w])\n",
    "            else:\n",
    "                word_tokens.append(w)\n",
    "    tagged = nltk.pos_tag(word_tokens)\n",
    "    word_list = filter_for_tags(tagged)\n",
    "    return word_list"
   ]
  },
  {
   "cell_type": "code",
   "execution_count": 23,
   "metadata": {},
   "outputs": [],
   "source": [
    "unique_word_set = set([])\n",
    "edges = {}\n",
    "\n",
    "for s in sentences:\n",
    "    # tokenize the text using nltk\n",
    "    word_list = get_word_list(s)\n",
    "    word_list.sort()\n",
    "\n",
    "    for word in word_list:\n",
    "        if word not in unique_word_set:\n",
    "            unique_word_set.add(word)\n",
    "\n",
    "    for pair in itertools.combinations(word_list, 2):\n",
    "        if pair in edges.keys():\n",
    "            edges[pair] += 1\n",
    "        else:\n",
    "            edges[pair] = 1"
   ]
  },
  {
   "cell_type": "code",
   "execution_count": 24,
   "metadata": {},
   "outputs": [],
   "source": [
    "gr = nx.Graph()  # initialize an undirected graph\n",
    "gr.add_nodes_from(unique_word_set)\n",
    "\n",
    "for key, weight in edges.items():\n",
    "    gr.add_edge(key[0], key[1], weight=weight)"
   ]
  },
  {
   "cell_type": "code",
   "execution_count": 25,
   "metadata": {},
   "outputs": [
    {
     "data": {
      "text/plain": [
       "665"
      ]
     },
     "execution_count": 25,
     "metadata": {},
     "output_type": "execute_result"
    }
   ],
   "source": [
    "len(gr.nodes)"
   ]
  },
  {
   "cell_type": "code",
   "execution_count": 26,
   "metadata": {},
   "outputs": [],
   "source": [
    "calculated_page_rank = nx.pagerank(gr.to_directed(), weight='weight')"
   ]
  },
  {
   "cell_type": "code",
   "execution_count": 27,
   "metadata": {},
   "outputs": [],
   "source": [
    "all_keywords = sorted(calculated_page_rank, key=calculated_page_rank.get,reverse=True)"
   ]
  },
  {
   "cell_type": "code",
   "execution_count": 28,
   "metadata": {},
   "outputs": [
    {
     "name": "stdout",
     "output_type": "stream",
     "text": [
      "model 0.048912277478165074\n",
      "layer 0.01918176027813789\n",
      "datum 0.018033421202222375\n",
      "example 0.01632888899891592\n",
      "dataset 0.012346753272252996\n",
      "deep 0.012010017950529972\n",
      "function 0.011664308083343955\n",
      "training 0.010448160302795103\n",
      "learning 0.009944219689680098\n",
      "network 0.00952417971917097\n",
      "image 0.008772335195296785\n",
      "tutorial 0.00861948609359671\n",
      "tf.keras 0.008402496989973415\n",
      "accuracy 0.008398701034353686\n",
      "input 0.008339191452692416\n",
      "output 0.008029006776764918\n",
      "classification 0.007983371957363407\n",
      "tensorflow 0.0075957242063239\n",
      "test 0.007002547600369028\n",
      "keras 0.006726372532787659\n",
      "mlp 0.006698067361105025\n",
      "problem 0.00603013708138816\n",
      "result 0.005658072738340018\n",
      "class 0.005291631326284649\n",
      "neural 0.005260781376921215\n",
      "library 0.005201614948559292\n",
      "code 0.00518522036951531\n",
      "fit 0.005040896780581629\n",
      "validation 0.005003636249229695\n",
      "prediction 0.00475937702080678\n",
      "block 0.004681836942224093\n",
      "api 0.004643925620239973\n",
      "thanks 0.004239281639760083\n",
      "list 0.004223747345594084\n",
      "node 0.004127053673953714\n",
      "batch 0.00403271038140138\n",
      "evaluate 0.004028831840844538\n",
      "algorithm 0.004014396000057455\n",
      "binary 0.0039052950076107033\n",
      "activation 0.0038967980485605956\n",
      "performance 0.003855933811331622\n",
      "process 0.0037973432738793358\n",
      "row 0.003761292260514161\n",
      "argument 0.003744045155376371\n",
      "cnn 0.0037099731391261707\n",
      "evaluation 0.003703153901883992\n",
      "plot 0.0036936720588067683\n",
      "trainable 0.003583863766422873\n",
      "channel 0.003389424796516835\n",
      "vgg16 0.003367460529523563\n"
     ]
    },
    {
     "data": {
      "image/png": "[encoded data removed]",
      "text/plain": [
       "<Figure size 360x720 with 1 Axes>"
      ]
     },
     "metadata": {
      "needs_background": "light"
     },
     "output_type": "display_data"
    }
   ],
   "source": [
    "plot_bar(all_keywords, calculated_page_rank, n=50)"
   ]
  },
  {
   "cell_type": "code",
   "execution_count": 29,
   "metadata": {},
   "outputs": [
    {
     "data": {
      "text/plain": [
       "1.0"
      ]
     },
     "execution_count": 29,
     "metadata": {},
     "output_type": "execute_result"
    }
   ],
   "source": [
    "np.sum([calculated_page_rank[kp] for kp in all_keywords])"
   ]
  },
  {
   "cell_type": "markdown",
   "metadata": {},
   "source": [
    "## Phrases"
   ]
  },
  {
   "cell_type": "code",
   "execution_count": 30,
   "metadata": {},
   "outputs": [],
   "source": [
    "word_tokens = nltk.word_tokenize(text)\n",
    "tagged = nltk.pos_tag(word_tokens)\n",
    "textlist = [x[0] for x in tagged]\n",
    "keywords = all_keywords[:len(all_keywords)//10]\n",
    "phrase_freq = {}"
   ]
  },
  {
   "cell_type": "code",
   "execution_count": 31,
   "metadata": {},
   "outputs": [],
   "source": [
    "def get_phrases(textlist, keywords, k=2):\n",
    "    # take keyphrases with multiple words into consideration as done in the\n",
    "    # paper - if two words are adjacent in the text and are selected as\n",
    "    # keywords, join them together\n",
    "    modified_key_phrases = set([])\n",
    "    # keeps track of individual keywords that have been joined to form a keyphrase\n",
    "    i = k-1\n",
    "    while i < len(textlist):\n",
    "        consecutive = tuple(textlist[i-k+1:i+1])\n",
    "        if all([word in keywords for word in consecutive]):\n",
    "            modified_key_phrases.add(consecutive)\n",
    "            if consecutive in phrase_freq.keys():\n",
    "                phrase_freq[consecutive] += 1\n",
    "            else:\n",
    "                phrase_freq[consecutive] = 1\n",
    "        i += 1\n",
    "        \n",
    "    keyword_freq = {}\n",
    "    for word in textlist:\n",
    "        if word in keywords:\n",
    "            if word in keyword_freq.keys():\n",
    "                keyword_freq[word] += 1\n",
    "            else:\n",
    "                keyword_freq[word] = 1\n",
    "                \n",
    "    return list(modified_key_phrases), keyword_freq"
   ]
  },
  {
   "cell_type": "code",
   "execution_count": 32,
   "metadata": {},
   "outputs": [],
   "source": [
    "keyphrases, freq = get_phrases(textlist, keywords, k=2)"
   ]
  },
  {
   "cell_type": "code",
   "execution_count": 33,
   "metadata": {},
   "outputs": [
    {
     "data": {
      "text/plain": [
       "[('code', 'example'),\n",
       " ('accuracy', 'evaluation'),\n",
       " ('evaluate', 'function'),\n",
       " ('learning', 'algorithm'),\n",
       " ('image', 'input'),\n",
       " ('keras', 'api'),\n",
       " ('evaluation', 'process'),\n",
       " ('model', 'training'),\n",
       " ('mlp', 'network'),\n",
       " ('learning', 'project'),\n",
       " ('model', 'evaluation'),\n",
       " ('regression', 'dataset'),\n",
       " ('prediction', 'problem'),\n",
       " ('classification', 'problem'),\n",
       " ('input', 'layer'),\n",
       " ('training', 'epoch'),\n",
       " ('validation', 'dataset'),\n",
       " ('sigmoid', 'activation'),\n",
       " ('test', 'image'),\n",
       " ('model', 'api')]"
      ]
     },
     "execution_count": 33,
     "metadata": {},
     "output_type": "execute_result"
    }
   ],
   "source": [
    "keyphrases[:20]"
   ]
  },
  {
   "cell_type": "code",
   "execution_count": 34,
   "metadata": {},
   "outputs": [],
   "source": [
    "# cooccur_graph = nx.DiGraph()\n",
    "# cooccur_graph.add_nodes_from([(word,) for word in unique_word_set])\n",
    "\n",
    "# phrase_dict = {1:unique_word_set}\n",
    "\n",
    "# for phrase_len in range(2, 5):\n",
    "#     keyphrases = get_phrases(textlist, all_keywords[:len(all_keywords)//3], phrase_len)\n",
    "    \n",
    "#     for length in range(1, phrase_len):\n",
    "#         for kp in keyphrases:\n",
    "#             for i in range(length, phrase_len+1):\n",
    "#                 cooccur_graph.add_edge(kp[i-length:i], kp)"
   ]
  },
  {
   "cell_type": "code",
   "execution_count": 35,
   "metadata": {},
   "outputs": [],
   "source": [
    "# list(cooccur_graph.successors(('deep',)))"
   ]
  },
  {
   "cell_type": "code",
   "execution_count": 36,
   "metadata": {},
   "outputs": [],
   "source": [
    "# keywords = all_keywords\n",
    "\n",
    "# cooccurrence = {}\n",
    "# freq = {}\n",
    "# for word in keywords:\n",
    "#     cooccurrence[word] = 0\n",
    "#     freq[word] = 0\n",
    "\n",
    "# phrases = []\n",
    "\n",
    "# for s in sentences:\n",
    "#     word_tokens = nltk.word_tokenize(s)\n",
    "#     for k, g in itertools.groupby(word_tokens, key=lambda x: x in keywords):\n",
    "#         phrase = tuple(g)\n",
    "#         if k:\n",
    "#             for word in phrase:\n",
    "#                 cooccurrence[word] += len(phrase)\n",
    "#                 freq[word] += 1\n",
    "#             phrases.append(phrase)\n",
    "# #         print(k, phrase)"
   ]
  },
  {
   "cell_type": "code",
   "execution_count": 37,
   "metadata": {},
   "outputs": [],
   "source": [
    "# freq"
   ]
  },
  {
   "cell_type": "code",
   "execution_count": 38,
   "metadata": {},
   "outputs": [],
   "source": [
    "# score = {}\n",
    "# for word in keywords:\n",
    "#     score[word] = cooccurrence[word] / freq[word]\n",
    "    \n",
    "phrase_scores = {}\n",
    "for p in keyphrases:\n",
    "#     print(p)\n",
    "    phrase_scores[p] = np.prod([phrase_freq[p] / freq[w] for w in p])"
   ]
  },
  {
   "cell_type": "code",
   "execution_count": 39,
   "metadata": {},
   "outputs": [],
   "source": [
    "top_phrases = sorted(phrase_scores, key=phrase_scores.get, reverse=True)"
   ]
  },
  {
   "cell_type": "code",
   "execution_count": 40,
   "metadata": {
    "scrolled": false
   },
   "outputs": [
    {
     "name": "stdout",
     "output_type": "stream",
     "text": [
      "('deep', 'learning') 0.46380308880308885\n",
      "('binary', 'classification') 0.3681818181818182\n",
      "('neural', 'network') 0.24060150375939848\n",
      "('activation', 'function') 0.2293906810035842\n",
      "('training', 'process') 0.08687943262411348\n",
      "('classification', 'problem') 0.07102272727272727\n",
      "('tf.keras', 'api') 0.06363636363636364\n",
      "('training', 'dataset') 0.05780810919309514\n",
      "('test', 'dataset') 0.0440251572327044\n",
      "('classification', 'accuracy') 0.0427807486631016\n",
      "('output', 'layer') 0.041666666666666664\n",
      "('validation', 'dataset') 0.0362844702467344\n",
      "('accuracy', 'evaluation') 0.03361344537815126\n",
      "('learning', 'algorithm') 0.02857142857142857\n",
      "('learning', 'library') 0.026785714285714284\n",
      "('code', 'block') 0.022222222222222223\n",
      "('standard', 'deep') 0.018018018018018018\n",
      "('sigmoid', 'activation') 0.015873015873015872\n",
      "('keras', 'api') 0.015126050420168069\n",
      "('fit', 'function') 0.014336917562724013\n"
     ]
    },
    {
     "data": {
      "image/png": "[encoded data removed]",
      "text/plain": [
       "<Figure size 360x720 with 1 Axes>"
      ]
     },
     "metadata": {
      "needs_background": "light"
     },
     "output_type": "display_data"
    }
   ],
   "source": [
    "plot_bar(top_phrases, phrase_scores, n=20)"
   ]
  },
  {
   "cell_type": "code",
   "execution_count": 41,
   "metadata": {},
   "outputs": [
    {
     "name": "stdout",
     "output_type": "stream",
     "text": [
      "deep learning 0.46380308880308885\n",
      "binary classification 0.3681818181818182\n",
      "neural network 0.24060150375939848\n",
      "activation function 0.2293906810035842\n",
      "training process 0.08687943262411348\n",
      "classification problem 0.07102272727272727\n",
      "tf.keras api 0.06363636363636364\n",
      "training dataset 0.05780810919309514\n",
      "test dataset 0.0440251572327044\n",
      "classification accuracy 0.0427807486631016\n",
      "output layer 0.041666666666666664\n",
      "validation dataset 0.0362844702467344\n",
      "learning algorithm 0.02857142857142857\n",
      "learning library 0.026785714285714284\n",
      "code block 0.022222222222222223\n",
      "keras api 0.015126050420168069\n",
      "fit function 0.014336917562724013\n",
      "learning process 0.013392857142857142\n",
      "image classification 0.012121212121212121\n",
      "test accuracy 0.011204481792717085\n",
      "input layer 0.008746355685131194\n",
      "deep neural 0.007722007722007722\n",
      "network model 0.006477732793522267\n",
      "model performance 0.0057692307692307696\n",
      "mlp binary 0.004761904761904762\n",
      "prediction problem 0.004464285714285714\n",
      "evaluate function 0.003584229390681003\n",
      "classification dataset 0.003430531732418525\n",
      "mlp model 0.0032967032967032967\n",
      "classification prediction 0.0032467532467532465\n",
      "image input 0.003174603174603174\n",
      "test image 0.003174603174603174\n",
      "mlp network 0.002506265664160401\n",
      "learning model 0.002197802197802198\n",
      "code example 0.0020964360587002093\n"
     ]
    }
   ],
   "source": [
    "compound_words = []\n",
    "for p in top_phrases[:50]:\n",
    "    if all([w in keywords[:2*len(keywords)//3] for w in p]):\n",
    "        print(' '.join(p), phrase_scores[p])\n",
    "        compound_words.append(p)"
   ]
  },
  {
   "cell_type": "markdown",
   "metadata": {},
   "source": [
    "## Refined TextRank"
   ]
  },
  {
   "cell_type": "code",
   "execution_count": 42,
   "metadata": {},
   "outputs": [
    {
     "data": {
      "text/plain": [
       "[('deep', 'learning'),\n",
       " ('binary', 'classification'),\n",
       " ('neural', 'network'),\n",
       " ('activation', 'function'),\n",
       " ('training', 'process'),\n",
       " ('classification', 'problem'),\n",
       " ('tf.keras', 'api'),\n",
       " ('training', 'dataset'),\n",
       " ('test', 'dataset'),\n",
       " ('classification', 'accuracy'),\n",
       " ('output', 'layer'),\n",
       " ('validation', 'dataset'),\n",
       " ('learning', 'algorithm'),\n",
       " ('learning', 'library'),\n",
       " ('code', 'block'),\n",
       " ('keras', 'api'),\n",
       " ('fit', 'function'),\n",
       " ('learning', 'process'),\n",
       " ('image', 'classification'),\n",
       " ('test', 'accuracy'),\n",
       " ('input', 'layer'),\n",
       " ('deep', 'neural'),\n",
       " ('network', 'model'),\n",
       " ('model', 'performance'),\n",
       " ('mlp', 'binary'),\n",
       " ('prediction', 'problem'),\n",
       " ('evaluate', 'function'),\n",
       " ('classification', 'dataset'),\n",
       " ('mlp', 'model'),\n",
       " ('classification', 'prediction'),\n",
       " ('image', 'input'),\n",
       " ('test', 'image'),\n",
       " ('mlp', 'network'),\n",
       " ('learning', 'model'),\n",
       " ('code', 'example')]"
      ]
     },
     "execution_count": 42,
     "metadata": {},
     "output_type": "execute_result"
    }
   ],
   "source": [
    "compound_words"
   ]
  },
  {
   "cell_type": "code",
   "execution_count": 43,
   "metadata": {},
   "outputs": [],
   "source": [
    "# compound_words = top_phrases[:5]\n",
    "unique_word_set = set([])\n",
    "edges = {}\n",
    "\n",
    "for s in sentences:\n",
    "    # tokenize the text using nltk\n",
    "    word_tokens = get_word_list(s)\n",
    "    \n",
    "    word_list = []\n",
    "    i = 0\n",
    "    while i < len(word_tokens) - 1:\n",
    "        if (word_tokens[i], word_tokens[i+1]) in compound_words:\n",
    "            word_list.append(word_tokens[i] + ' ' + word_tokens[i+1])\n",
    "            i += 2\n",
    "        else:\n",
    "            word_list.append(word_tokens[i])\n",
    "            i += 1\n",
    "    \n",
    "    word_list.sort()\n",
    "\n",
    "    for word in word_list:\n",
    "        if word not in unique_word_set:\n",
    "            unique_word_set.add(word)\n",
    "\n",
    "    for pair in itertools.combinations(word_list, 2):\n",
    "        if pair in edges.keys():\n",
    "            edges[pair] += 1\n",
    "        else:\n",
    "            edges[pair] = 1"
   ]
  },
  {
   "cell_type": "code",
   "execution_count": 44,
   "metadata": {},
   "outputs": [],
   "source": [
    "gr = nx.Graph()  # initialize an undirected graph\n",
    "gr.add_nodes_from(unique_word_set)\n",
    "\n",
    "for key, weight in edges.items():\n",
    "    gr.add_edge(key[0], key[1], weight=weight)"
   ]
  },
  {
   "cell_type": "code",
   "execution_count": 45,
   "metadata": {},
   "outputs": [
    {
     "data": {
      "text/plain": [
       "630"
      ]
     },
     "execution_count": 45,
     "metadata": {},
     "output_type": "execute_result"
    }
   ],
   "source": [
    "len(gr.nodes)"
   ]
  },
  {
   "cell_type": "code",
   "execution_count": 46,
   "metadata": {},
   "outputs": [],
   "source": [
    "calculated_page_rank = nx.pagerank(gr.to_directed(), weight='weight')"
   ]
  },
  {
   "cell_type": "code",
   "execution_count": 47,
   "metadata": {},
   "outputs": [],
   "source": [
    "all_keywords = sorted(calculated_page_rank, key=calculated_page_rank.get,reverse=True)"
   ]
  },
  {
   "cell_type": "code",
   "execution_count": 48,
   "metadata": {},
   "outputs": [
    {
     "name": "stdout",
     "output_type": "stream",
     "text": [
      "model 0.04485098806594288\n",
      "datum 0.02045280233928666\n",
      "example 0.017330463155586236\n",
      "layer 0.015222003630736851\n",
      "deep learning 0.00981704494936781\n",
      "tutorial 0.00871448771733955\n",
      "tf.keras 0.008712300456080999\n",
      "tensorflow 0.008278319795010177\n",
      "keras 0.007921814050794338\n",
      "image 0.007846529002351105\n",
      "function 0.007583254661827461\n",
      "accuracy 0.007326492727707451\n",
      "input 0.006661806604416279\n",
      "test 0.00598020723473574\n",
      "result 0.005835123427061817\n",
      "class 0.005487643669626851\n",
      "output 0.005329729894528246\n",
      "block 0.0053164294330950105\n",
      "problem 0.005309335411302411\n",
      "training 0.005296206014705055\n",
      "mlp 0.005248597828891542\n",
      "fit 0.005141969141389413\n",
      "list 0.0050862740135117525\n",
      "training dataset 0.004998982572159342\n",
      "network 0.004925752870705743\n",
      "batch 0.004892387165092209\n",
      "neural network 0.004859311678084522\n",
      "node 0.004826150082816148\n",
      "library 0.004648305968576928\n",
      "argument 0.004356499670013841\n",
      "api 0.00432893158676334\n",
      "channel 0.004255484674507118\n",
      "sigmoid 0.0042302578799741555\n",
      "validation 0.004183742107041965\n",
      "row 0.004153312807195342\n",
      "cnn 0.0040646422162959875\n",
      "evaluate 0.004020693183052094\n",
      "output layer 0.003896412939726846\n",
      "prediction 0.0038877982987052155\n",
      "activation function 0.0037683193035892393\n",
      "standard 0.0037307699186917478\n",
      "code 0.0036600549410708613\n",
      "dropout 0.003620711149929491\n",
      "simple 0.00360656141159459\n",
      "trainable 0.0035922634092849827\n",
      "regression 0.003559770317911101\n",
      "feature 0.0034804875750140646\n",
      "dataset 0.00343279423341116\n",
      "vgg16 0.0034131213999220545\n",
      "rnn 0.0033898180861954286\n"
     ]
    },
    {
     "data": {
      "image/png": "[encoded data removed]",
      "text/plain": [
       "<Figure size 360x720 with 1 Axes>"
      ]
     },
     "metadata": {
      "needs_background": "light"
     },
     "output_type": "display_data"
    }
   ],
   "source": [
    "plot_bar(all_keywords, calculated_page_rank)"
   ]
  },
  {
   "cell_type": "code",
   "execution_count": null,
   "metadata": {},
   "outputs": [],
   "source": []
  }
 ],
 "metadata": {
  "kernelspec": {
   "display_name": "Python 3",
   "language": "python",
   "name": "python3"
  },
  "language_info": {
   "codemirror_mode": {
    "name": "ipython",
    "version": 3
   },
   "file_extension": ".py",
   "mimetype": "text/x-python",
   "name": "python",
   "nbconvert_exporter": "python",
   "pygments_lexer": "ipython3",
   "version": "3.7.4"
  },
  "latex_envs": {
   "LaTeX_envs_menu_present": true,
   "autoclose": false,
   "autocomplete": true,
   "bibliofile": "biblio.bib",
   "cite_by": "apalike",
   "current_citInitial": 1,
   "eqLabelWithNumbers": true,
   "eqNumInitial": 1,
   "hotkeys": {
    "equation": "Ctrl-E",
    "itemize": "Ctrl-I"
   },
   "labels_anchors": false,
   "latex_user_defs": false,
   "report_style_numbering": false,
   "user_envs_cfg": false
  },
  "toc": {
   "base_numbering": 1,
   "nav_menu": {},
   "number_sections": true,
   "sideBar": true,
   "skip_h1_title": false,
   "title_cell": "Table of Contents",
   "title_sidebar": "Contents",
   "toc_cell": false,
   "toc_position": {},
   "toc_section_display": true,
   "toc_window_display": true
  }
 },
 "nbformat": 4,
 "nbformat_minor": 2
}
