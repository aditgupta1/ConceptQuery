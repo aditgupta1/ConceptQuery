{
 "cells": [
  {
   "cell_type": "code",
   "execution_count": 1,
   "metadata": {},
   "outputs": [],
   "source": [
    "import io\n",
    "import itertools\n",
    "import networkx as nx\n",
    "import nltk\n",
    "import os\n",
    "import numpy as np\n",
    "\n",
    "import matplotlib.pyplot as plt\n",
    "# from rake_nltk import Rake"
   ]
  },
  {
   "cell_type": "code",
   "execution_count": 2,
   "metadata": {},
   "outputs": [],
   "source": [
    "with open('sample.txt', 'r') as f:\n",
    "    text = f.read().lower()"
   ]
  },
  {
   "cell_type": "code",
   "execution_count": 25,
   "metadata": {},
   "outputs": [],
   "source": [
    "def filter_for_tags(tagged):\n",
    "    \"\"\"Apply syntactic filters based on POS tags.\"\"\"\n",
    "    tags=['NN', 'NNS', 'NNP', 'NNPS']\n",
    "    return [item[0] for item in tagged if item[1] in tags]"
   ]
  },
  {
   "cell_type": "code",
   "execution_count": 26,
   "metadata": {},
   "outputs": [],
   "source": [
    "# stopwords = nltk.corpus.stopwords.words('english')"
   ]
  },
  {
   "cell_type": "code",
   "execution_count": 27,
   "metadata": {},
   "outputs": [],
   "source": [
    "# stopwords[:10]"
   ]
  },
  {
   "cell_type": "code",
   "execution_count": 28,
   "metadata": {},
   "outputs": [],
   "source": [
    "sentences = nltk.sent_tokenize(text)"
   ]
  },
  {
   "cell_type": "code",
   "execution_count": 29,
   "metadata": {},
   "outputs": [
    {
     "data": {
      "text/plain": [
       "[' \\npredictive modeling with deep learning is a skill that modern developers need to know.',\n",
       " 'tensorflow is the premier open-source deep learning framework developed and maintained by google.',\n",
       " 'although using tensorflow directly can be challenging, the modern tf.keras api beings the simplicity and ease of use of keras to the tensorflow project.',\n",
       " 'using tf.keras allows you to design, fit, evaluate, and use deep learning models to make predictions in just a few lines of code.',\n",
       " 'it makes common deep learning tasks, such as classification and regression predictive modeling, accessible to average developers looking to get things done.']"
      ]
     },
     "execution_count": 29,
     "metadata": {},
     "output_type": "execute_result"
    }
   ],
   "source": [
    "sentences[:5]"
   ]
  },
  {
   "cell_type": "markdown",
   "metadata": {},
   "source": [
    "## Words"
   ]
  },
  {
   "cell_type": "code",
   "execution_count": 30,
   "metadata": {},
   "outputs": [],
   "source": [
    "unique_word_set = set([])\n",
    "edges = {}\n",
    "\n",
    "for s in sentences:\n",
    "    # tokenize the text using nltk\n",
    "    word_tokens = [w for w in nltk.word_tokenize(s) if len(w) > 1]\n",
    "\n",
    "    # assign POS tags to the words in the text\n",
    "    tagged = nltk.pos_tag(word_tokens)\n",
    "    word_list = filter_for_tags(tagged)\n",
    "    word_list.sort()\n",
    "\n",
    "    for word in word_list:\n",
    "        if word not in unique_word_set:\n",
    "            unique_word_set.add(word)\n",
    "\n",
    "    for pair in itertools.combinations(word_list, 2):\n",
    "        if pair in edges.keys():\n",
    "            edges[pair] += 1\n",
    "        else:\n",
    "            edges[pair] = 1"
   ]
  },
  {
   "cell_type": "code",
   "execution_count": 31,
   "metadata": {},
   "outputs": [],
   "source": [
    "gr = nx.Graph()  # initialize an undirected graph\n",
    "gr.add_nodes_from(unique_word_set)\n",
    "\n",
    "for key, weight in edges.items():\n",
    "    gr.add_edge(key[0], key[1], weight=weight)"
   ]
  },
  {
   "cell_type": "code",
   "execution_count": 32,
   "metadata": {},
   "outputs": [
    {
     "data": {
      "text/plain": [
       "598"
      ]
     },
     "execution_count": 32,
     "metadata": {},
     "output_type": "execute_result"
    }
   ],
   "source": [
    "len(gr.nodes)"
   ]
  },
  {
   "cell_type": "code",
   "execution_count": 33,
   "metadata": {},
   "outputs": [],
   "source": [
    "calculated_page_rank = nx.pagerank(gr.to_directed(), weight='weight')"
   ]
  },
  {
   "cell_type": "code",
   "execution_count": 34,
   "metadata": {},
   "outputs": [],
   "source": [
    "all_keywords = sorted(calculated_page_rank, key=calculated_page_rank.get,reverse=True)"
   ]
  },
  {
   "cell_type": "code",
   "execution_count": 35,
   "metadata": {},
   "outputs": [
    {
     "name": "stdout",
     "output_type": "stream",
     "text": [
      "model 0.04054587628656427\n",
      "data 0.02085238608422332\n",
      "example 0.01696862427201855\n",
      "dataset 0.015940029706358307\n",
      "training 0.015794262189482072\n",
      "layer 0.01527567601584954\n",
      "models 0.013082667679126981\n",
      "loss 0.012552706795147547\n",
      "test 0.012396417195924029\n",
      "learning 0.011849534284791024\n",
      "accuracy 0.011322656066789763\n",
      "function 0.011054387896454767\n",
      "number 0.008997661513173608\n",
      "classification 0.008614846867464778\n",
      "time 0.00843818119808686\n",
      "mlp 0.0076313062679483805\n",
      "output 0.007585842068453671\n",
      "network 0.0074819510446718735\n",
      "case 0.007224810264747832\n",
      "layers 0.006793114097138444\n",
      "validation 0.006517481023804811\n",
      "class 0.006085096940656113\n",
      "problem 0.005881032798402875\n",
      "image 0.005675326307245941\n",
      "input 0.005642571641339477\n",
      "keras 0.005536266211976921\n",
      "api 0.005504061103646484\n",
      "tf.keras 0.005413466858521442\n",
      "images 0.005194551527067696\n",
      "list 0.004908621658575555\n",
      "process 0.004826122148235884\n",
      "evaluation 0.004761636138661982\n",
      "performance 0.004664962826704181\n",
      "use 0.004488125214613264\n",
      "tensorflow 0.004152906323110374\n",
      "plot 0.00411794864282951\n",
      "line 0.00404221710703151\n",
      "activation 0.0038276566249815344\n",
      "value 0.00382215828580407\n",
      "vgg16 0.0037745228789740678\n",
      "libraries 0.0037741060175820094\n",
      "minutes 0.0035838183748329636\n",
      "code 0.003551403773716366\n",
      "nodes 0.00354563427802817\n",
      "argument 0.0035382324609677085\n",
      "cnn 0.0035222003642222974\n",
      "project 0.0034851472742081367\n",
      "percent 0.0034704462508010174\n",
      "result 0.003433350597326166\n",
      "row 0.0034267281118236146\n"
     ]
    }
   ],
   "source": [
    "labels = []\n",
    "scores = []\n",
    "for kp in all_keywords[:50]:\n",
    "    print(kp, calculated_page_rank[kp])\n",
    "    labels.append(kp)\n",
    "    scores.append(calculated_page_rank[kp])"
   ]
  },
  {
   "cell_type": "code",
   "execution_count": 36,
   "metadata": {},
   "outputs": [
    {
     "data": {
      "image/png": "[encoded data removed]",
      "text/plain": [
       "<Figure size 360x720 with 1 Axes>"
      ]
     },
     "metadata": {
      "needs_background": "light"
     },
     "output_type": "display_data"
    }
   ],
   "source": [
    "plt.figure(figsize=(5,10))\n",
    "plt.barh(range(len(labels), 0,-1), width=scores, tick_label=labels)\n",
    "plt.show()"
   ]
  },
  {
   "cell_type": "code",
   "execution_count": 37,
   "metadata": {},
   "outputs": [
    {
     "data": {
      "text/plain": [
       "1.0"
      ]
     },
     "execution_count": 37,
     "metadata": {},
     "output_type": "execute_result"
    }
   ],
   "source": [
    "np.sum([calculated_page_rank[kp] for kp in all_keywords])"
   ]
  },
  {
   "cell_type": "markdown",
   "metadata": {},
   "source": [
    "## Phrases"
   ]
  },
  {
   "cell_type": "code",
   "execution_count": 38,
   "metadata": {},
   "outputs": [],
   "source": [
    "word_tokens = nltk.word_tokenize(text)\n",
    "tagged = nltk.pos_tag(word_tokens)\n",
    "textlist = [x[0] for x in tagged]\n",
    "keywords = all_keywords[:len(all_keywords)//10]\n",
    "phrase_freq = {}"
   ]
  },
  {
   "cell_type": "code",
   "execution_count": 39,
   "metadata": {},
   "outputs": [],
   "source": [
    "def get_phrases(textlist, keywords, k=2):\n",
    "    # take keyphrases with multiple words into consideration as done in the\n",
    "    # paper - if two words are adjacent in the text and are selected as\n",
    "    # keywords, join them together\n",
    "    modified_key_phrases = set([])\n",
    "    # keeps track of individual keywords that have been joined to form a keyphrase\n",
    "    i = k-1\n",
    "    while i < len(textlist):\n",
    "        consecutive = tuple(textlist[i-k+1:i+1])\n",
    "        if all([word in keywords for word in consecutive]):\n",
    "            modified_key_phrases.add(consecutive)\n",
    "            if consecutive in phrase_freq.keys():\n",
    "                phrase_freq[consecutive] += 1\n",
    "            else:\n",
    "                phrase_freq[consecutive] = 1\n",
    "        i += 1\n",
    "        \n",
    "    keyword_freq = {}\n",
    "    for word in textlist:\n",
    "        if word in keywords:\n",
    "            if word in keyword_freq.keys():\n",
    "                keyword_freq[word] += 1\n",
    "            else:\n",
    "                keyword_freq[word] = 1\n",
    "                \n",
    "    return list(modified_key_phrases), keyword_freq"
   ]
  },
  {
   "cell_type": "code",
   "execution_count": 40,
   "metadata": {},
   "outputs": [],
   "source": [
    "keyphrases, freq = get_phrases(textlist, keywords, k=2)"
   ]
  },
  {
   "cell_type": "code",
   "execution_count": 41,
   "metadata": {},
   "outputs": [
    {
     "data": {
      "text/plain": [
       "[('use', 'code'),\n",
       " ('output', 'function'),\n",
       " ('code', 'example'),\n",
       " ('validation', 'data'),\n",
       " ('test', 'loss'),\n",
       " ('loss', 'function'),\n",
       " ('mlp', 'network'),\n",
       " ('classification', 'accuracy'),\n",
       " ('learning', 'performance'),\n",
       " ('training', 'data')]"
      ]
     },
     "execution_count": 41,
     "metadata": {},
     "output_type": "execute_result"
    }
   ],
   "source": [
    "keyphrases[:10]"
   ]
  },
  {
   "cell_type": "code",
   "execution_count": 42,
   "metadata": {},
   "outputs": [],
   "source": [
    "# cooccur_graph = nx.DiGraph()\n",
    "# cooccur_graph.add_nodes_from([(word,) for word in unique_word_set])\n",
    "\n",
    "# phrase_dict = {1:unique_word_set}\n",
    "\n",
    "# for phrase_len in range(2, 5):\n",
    "#     keyphrases = get_phrases(textlist, all_keywords[:len(all_keywords)//3], phrase_len)\n",
    "    \n",
    "#     for length in range(1, phrase_len):\n",
    "#         for kp in keyphrases:\n",
    "#             for i in range(length, phrase_len+1):\n",
    "#                 cooccur_graph.add_edge(kp[i-length:i], kp)"
   ]
  },
  {
   "cell_type": "code",
   "execution_count": 43,
   "metadata": {},
   "outputs": [],
   "source": [
    "# list(cooccur_graph.successors(('deep',)))"
   ]
  },
  {
   "cell_type": "code",
   "execution_count": 44,
   "metadata": {},
   "outputs": [],
   "source": [
    "# keywords = all_keywords\n",
    "\n",
    "# cooccurrence = {}\n",
    "# freq = {}\n",
    "# for word in keywords:\n",
    "#     cooccurrence[word] = 0\n",
    "#     freq[word] = 0\n",
    "\n",
    "# phrases = []\n",
    "\n",
    "# for s in sentences:\n",
    "#     word_tokens = nltk.word_tokenize(s)\n",
    "#     for k, g in itertools.groupby(word_tokens, key=lambda x: x in keywords):\n",
    "#         phrase = tuple(g)\n",
    "#         if k:\n",
    "#             for word in phrase:\n",
    "#                 cooccurrence[word] += len(phrase)\n",
    "#                 freq[word] += 1\n",
    "#             phrases.append(phrase)\n",
    "# #         print(k, phrase)"
   ]
  },
  {
   "cell_type": "code",
   "execution_count": 45,
   "metadata": {},
   "outputs": [],
   "source": [
    "# freq"
   ]
  },
  {
   "cell_type": "code",
   "execution_count": 46,
   "metadata": {},
   "outputs": [],
   "source": [
    "# score = {}\n",
    "# for word in keywords:\n",
    "#     score[word] = cooccurrence[word] / freq[word]\n",
    "    \n",
    "phrase_scores = {}\n",
    "for p in keyphrases:\n",
    "#     print(p)\n",
    "    phrase_scores[p] = np.prod([phrase_freq[p] / freq[w] for w in p])"
   ]
  },
  {
   "cell_type": "code",
   "execution_count": 47,
   "metadata": {},
   "outputs": [],
   "source": [
    "top_phrases = sorted(phrase_scores, key=phrase_scores.get, reverse=True)"
   ]
  },
  {
   "cell_type": "code",
   "execution_count": 48,
   "metadata": {},
   "outputs": [
    {
     "name": "stdout",
     "output_type": "stream",
     "text": [
      "('activation', 'function') 0.2293906810035842\n",
      "('learning', 'models') 0.08876050420168068\n",
      "('training', 'process') 0.08687943262411348\n",
      "('classification', 'problem') 0.07102272727272727\n",
      "('rnn', 'models') 0.06722689075630252\n",
      "('tf.keras', 'api') 0.06363636363636364\n",
      "('training', 'dataset') 0.05780810919309514\n",
      "('test', 'dataset') 0.0440251572327044\n",
      "('classification', 'accuracy') 0.0427807486631016\n",
      "('output', 'layer') 0.041666666666666664\n",
      "('line', 'plot') 0.041666666666666664\n",
      "('validation', 'dataset') 0.0362844702467344\n",
      "('accuracy', 'evaluation') 0.03361344537815126\n",
      "('loss', 'function') 0.033602150537634407\n",
      "('model.fit', 'data') 0.030303030303030304\n",
      "('dropout', 'layers') 0.018181818181818184\n",
      "('keras', 'api') 0.015126050420168069\n",
      "('learning', 'process') 0.013392857142857142\n",
      "('image', 'classification') 0.012121212121212121\n",
      "('evaluation', 'process') 0.011904761904761904\n"
     ]
    }
   ],
   "source": [
    "labels = []\n",
    "scores = []\n",
    "for p in top_phrases[:20]:\n",
    "    print(p, phrase_scores[p])\n",
    "    labels.append(' '.join(p))\n",
    "    scores.append(phrase_scores[p])"
   ]
  },
  {
   "cell_type": "code",
   "execution_count": 49,
   "metadata": {},
   "outputs": [
    {
     "data": {
      "image/png": "[encoded data removed]",
      "text/plain": [
       "<Figure size 360x576 with 1 Axes>"
      ]
     },
     "metadata": {
      "needs_background": "light"
     },
     "output_type": "display_data"
    }
   ],
   "source": [
    "plt.figure(figsize=(5,8))\n",
    "plt.barh(range(len(labels), 0,-1), width=scores, tick_label=labels)\n",
    "plt.show()"
   ]
  },
  {
   "cell_type": "code",
   "execution_count": 53,
   "metadata": {},
   "outputs": [
    {
     "name": "stdout",
     "output_type": "stream",
     "text": [
      "deep learning 0.46380308880308885\n",
      "training dataset 0.05780810919309514\n",
      "test dataset 0.0440251572327044\n",
      "classification accuracy 0.0427807486631016\n",
      "output layer 0.041666666666666664\n",
      "loss function 0.033602150537634407\n",
      "test accuracy 0.011204481792717085\n",
      "test loss 0.007936507936507936\n",
      "network model 0.006477732793522267\n",
      "classification dataset 0.003430531732418525\n"
     ]
    }
   ],
   "source": [
    "for p in top_phrases[:50]:\n",
    "    if all([w in keywords[:len(keywords)//3] for w in p]):\n",
    "        print(' '.join(p), phrase_scores[p])"
   ]
  },
  {
   "cell_type": "markdown",
   "metadata": {},
   "source": [
    "## Refined TextRank"
   ]
  },
  {
   "cell_type": "code",
   "execution_count": 71,
   "metadata": {},
   "outputs": [],
   "source": [
    "compound_words = top_phrases[:5]\n",
    "unique_word_set = set([])\n",
    "edges = {}\n",
    "\n",
    "for s in sentences:\n",
    "    # tokenize the text using nltk\n",
    "    raw_word_tokens = [w for w in nltk.word_tokenize(s) if len(w) > 1]\n",
    "    tagged = nltk.pos_tag(raw_word_tokens)\n",
    "    word_tokens = filter_for_tags(tagged)\n",
    "    \n",
    "    word_list = []\n",
    "    i = 0\n",
    "    while i < len(word_tokens) - 1:\n",
    "        if (word_tokens[i], word_tokens[i+1]) in compound_words:\n",
    "            word_list.append(word_tokens[i] + ' ' + word_tokens[i+1])\n",
    "            i += 2\n",
    "        else:\n",
    "            word_list.append(word_tokens[i])\n",
    "            i += 1\n",
    "    \n",
    "    word_list.sort()\n",
    "\n",
    "    for word in word_list:\n",
    "        if word not in unique_word_set:\n",
    "            unique_word_set.add(word)\n",
    "\n",
    "    for pair in itertools.combinations(word_list, 2):\n",
    "        if pair in edges.keys():\n",
    "            edges[pair] += 1\n",
    "        else:\n",
    "            edges[pair] = 1"
   ]
  },
  {
   "cell_type": "code",
   "execution_count": 72,
   "metadata": {},
   "outputs": [],
   "source": [
    "gr = nx.Graph()  # initialize an undirected graph\n",
    "gr.add_nodes_from(unique_word_set)\n",
    "\n",
    "for key, weight in edges.items():\n",
    "    gr.add_edge(key[0], key[1], weight=weight)"
   ]
  },
  {
   "cell_type": "code",
   "execution_count": 73,
   "metadata": {},
   "outputs": [
    {
     "data": {
      "text/plain": [
       "554"
      ]
     },
     "execution_count": 73,
     "metadata": {},
     "output_type": "execute_result"
    }
   ],
   "source": [
    "len(gr.nodes)"
   ]
  },
  {
   "cell_type": "code",
   "execution_count": 74,
   "metadata": {},
   "outputs": [],
   "source": [
    "calculated_page_rank = nx.pagerank(gr.to_directed(), weight='weight')"
   ]
  },
  {
   "cell_type": "code",
   "execution_count": 75,
   "metadata": {},
   "outputs": [],
   "source": [
    "all_keywords = sorted(calculated_page_rank, key=calculated_page_rank.get,reverse=True)"
   ]
  },
  {
   "cell_type": "code",
   "execution_count": 76,
   "metadata": {},
   "outputs": [
    {
     "name": "stdout",
     "output_type": "stream",
     "text": [
      "model 0.03611287415042358\n",
      "example 0.015881337592093887\n",
      "training 0.015372206688148166\n",
      "loss 0.014677249112602944\n",
      "layer 0.014439648475633988\n",
      "test 0.013667097933872979\n",
      "accuracy 0.013043468724959175\n",
      "such 0.012576483938505337\n",
      "deep learning 0.011521880290772247\n",
      "tensorflow 0.011167385887898383\n",
      "dataset 0.010475221064477208\n",
      "number 0.008768545107101147\n",
      "api 0.00843708741299231\n",
      "tutorial 0.008370692714194449\n",
      "mlp 0.008169448068862625\n",
      "output 0.007301836923437915\n",
      "time 0.007187351681812165\n",
      "class 0.006594034845842476\n",
      "new 0.006482628249473155\n",
      "case 0.006392495867076168\n",
      "validation 0.006087264941055861\n",
      "function 0.005966361490759654\n",
      "input 0.005528991077622681\n",
      "first 0.005368932136980509\n",
      "problem 0.005067271731568196\n",
      "network 0.005005081919988274\n",
      "classification 0.004940208460503793\n",
      "performance 0.004892075575829472\n",
      "vgg16 0.004880513173859706\n",
      "image 0.004693300072756554\n",
      "print 0.004438119810996175\n",
      "batch 0.004431340615699698\n",
      "line 0.004393931039199761\n",
      "activation function 0.0043026973684442095\n",
      "list 0.004298157093903526\n",
      "binary classification 0.004262093574978363\n",
      "argument 0.004161086664697052\n",
      "value 0.004108587081799636\n",
      "epoch 0.004097718783776984\n",
      "result 0.0039352422626284895\n",
      "simple 0.003830760130559611\n",
      "good 0.0038102117276889256\n",
      "prediction 0.003803801570929317\n",
      "tuple 0.003706436089415677\n",
      "process 0.003675875073281481\n",
      "regression 0.003656844488142807\n",
      "iris 0.003589033658867949\n",
      "unseen 0.0035678137830092004\n",
      "next 0.0035077804297220946\n",
      "standard 0.0034933607368127185\n"
     ]
    }
   ],
   "source": [
    "labels = []\n",
    "scores = []\n",
    "for kp in all_keywords[:50]:\n",
    "    print(kp, calculated_page_rank[kp])\n",
    "    labels.append(kp)\n",
    "    scores.append(calculated_page_rank[kp])"
   ]
  },
  {
   "cell_type": "code",
   "execution_count": 78,
   "metadata": {},
   "outputs": [
    {
     "data": {
      "image/png": "[encoded data removed]",
      "text/plain": [
       "<Figure size 360x720 with 1 Axes>"
      ]
     },
     "metadata": {
      "needs_background": "light"
     },
     "output_type": "display_data"
    }
   ],
   "source": [
    "plt.figure(figsize=(5,10))\n",
    "plt.barh(range(len(labels), 0,-1), width=scores, tick_label=labels)\n",
    "plt.show()"
   ]
  },
  {
   "cell_type": "code",
   "execution_count": null,
   "metadata": {},
   "outputs": [],
   "source": []
  }
 ],
 "metadata": {
  "kernelspec": {
   "display_name": "Python 3",
   "language": "python",
   "name": "python3"
  },
  "language_info": {
   "codemirror_mode": {
    "name": "ipython",
    "version": 3
   },
   "file_extension": ".py",
   "mimetype": "text/x-python",
   "name": "python",
   "nbconvert_exporter": "python",
   "pygments_lexer": "ipython3",
   "version": "3.7.4"
  },
  "latex_envs": {
   "LaTeX_envs_menu_present": true,
   "autoclose": false,
   "autocomplete": true,
   "bibliofile": "biblio.bib",
   "cite_by": "apalike",
   "current_citInitial": 1,
   "eqLabelWithNumbers": true,
   "eqNumInitial": 1,
   "hotkeys": {
    "equation": "Ctrl-E",
    "itemize": "Ctrl-I"
   },
   "labels_anchors": false,
   "latex_user_defs": false,
   "report_style_numbering": false,
   "user_envs_cfg": false
  },
  "toc": {
   "base_numbering": 1,
   "nav_menu": {},
   "number_sections": true,
   "sideBar": true,
   "skip_h1_title": false,
   "title_cell": "Table of Contents",
   "title_sidebar": "Contents",
   "toc_cell": false,
   "toc_position": {},
   "toc_section_display": true,
   "toc_window_display": false
  }
 },
 "nbformat": 4,
 "nbformat_minor": 2
}
