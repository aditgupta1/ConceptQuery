{
 "cells": [
  {
   "cell_type": "code",
   "execution_count": 3,
   "metadata": {},
   "outputs": [],
   "source": [
    "import networkx as nx\n",
    "from bokeh.io import show, output_file\n",
    "from bokeh.plotting import figure,show\n",
    "from bokeh.models.graphs import from_networkx #I haven't been able to use this!\n",
    "from bokeh.io import output_notebook, export_png\n",
    "from bokeh.models import HoverTool, ColumnDataSource\n",
    "from bokeh.resources import CDN\n",
    "from bokeh.embed import file_html\n",
    "from math import sqrt\n",
    "import csv\n",
    "from csv import reader\n",
    "\n",
    "all_nodes = []\n",
    "with open('sample-graph.csv', 'r', encoding='utf-8-sig') as f:\n",
    "    rows = csv.reader(f, delimiter=',')\n",
    "    for row in rows:\n",
    "        unique_row_items = set(field.strip().upper() for field in row)\n",
    "        for item in unique_row_items:\n",
    "            if item not in all_nodes:\n",
    "                all_nodes.append(item)\n",
    "\n",
    "with open('sample-graph.csv', 'r', encoding='utf-8-sig') as read_obj:\n",
    "    csv_reader = reader(read_obj)\n",
    "    all_edges = list(map(tuple, csv_reader))\n",
    "\n",
    "G = nx.Graph()\n",
    "G.add_nodes_from(all_nodes,color= 'green')  \n",
    "#G.add_nodes_from(Dataset2,color='blue') \n",
    "G.add_edges_from(all_edges,weight=0.8)\n",
    "layout = nx.draw_spring(G, with_labels=True)\n",
    "nx.write_graphml(G,\"TEST.graphML\")\n",
    "network = nx.read_graphml(\"TEST.graphML\")\n",
    "\n",
    "#start Bokeh code\n",
    "layout = nx.spring_layout(network,k=1.1/sqrt(network.number_of_nodes()),iterations=100) #pass the NX file to a spring layout\n",
    "\n",
    "nodes, nodes_coordinates = zip(*sorted(layout.items()))\n",
    "nodes_xs, nodes_ys = list(zip(*nodes_coordinates))\n",
    "nodes_source = ColumnDataSource(dict(x=nodes_xs, y=nodes_ys,name=nodes)) #Can this pass the color? \n",
    "\n",
    "hover = HoverTool(tooltips=[('name', '@name')]) #would like to know how to add in more values here manually\n",
    "\n",
    "plot = figure(plot_width=800, plot_height=400,tools=['tap', hover, 'box_zoom', 'reset'])\n",
    "\n",
    "r_circles = plot.circle('x', 'y', source=nodes_source, size=10, color='orange', level = 'overlay')#this function sets the color of the nodes, but how to set based on the name of the node? \n",
    "\n",
    "\n",
    "def get_edges_specs(_network, _layout): \n",
    "    d = dict(xs=[], ys=[], alphas=[])\n",
    "    weights = [d['weight'] for u, v, d in _network.edges(data=True)]\n",
    "    max_weight = max(weights)\n",
    "    calc_alpha = lambda h: 0.1 + 0.6 * (h / max_weight)\n",
    "\n",
    "    # example: { ..., ('user47', 'da_bjoerni', {'weight': 3}), ... }\n",
    "    for u, v, data in _network.edges(data=True):\n",
    "        d['xs'].append([_layout[u][0], _layout[v][0]])\n",
    "        d['ys'].append([_layout[u][1], _layout[v][1]])\n",
    "        d['alphas'].append(calc_alpha(data['weight']))\n",
    "    return d\n",
    "\n",
    "lines_source = ColumnDataSource(get_edges_specs(network, layout))\n",
    "\n",
    "r_lines = plot.multi_line('xs', 'ys', line_width=1.5,\n",
    "                      alpha='alphas', color='navy',\n",
    "                      source=lines_source)#This function sets the color of the edges\n",
    "\n",
    "show(plot)\n",
    "#export_png(plot, filename=\"plot.png\")"
   ]
  },
  {
   "cell_type": "code",
   "execution_count": 63,
   "metadata": {},
   "outputs": [],
   "source": []
  },
  {
   "cell_type": "code",
   "execution_count": 64,
   "metadata": {},
   "outputs": [
    {
     "name": "stdout",
     "output_type": "stream",
     "text": [
      "['b', 'a', 'e', 'c', 'd']\n"
     ]
    }
   ],
   "source": []
  },
  {
   "cell_type": "code",
   "execution_count": null,
   "metadata": {},
   "outputs": [],
   "source": []
  }
 ],
 "metadata": {
  "kernelspec": {
   "display_name": "Python 3",
   "language": "python",
   "name": "python3"
  },
  "language_info": {
   "codemirror_mode": {
    "name": "ipython",
    "version": 3
   },
   "file_extension": ".py",
   "mimetype": "text/x-python",
   "name": "python",
   "nbconvert_exporter": "python",
   "pygments_lexer": "ipython3",
   "version": "3.6.8"
  }
 },
 "nbformat": 4,
 "nbformat_minor": 2
}
