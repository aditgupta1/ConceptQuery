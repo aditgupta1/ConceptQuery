{
 "cells": [
  {
   "cell_type": "code",
   "execution_count": 7,
   "metadata": {},
   "outputs": [],
   "source": [
    "import networkx as nx\n",
    "from bokeh.io import show, output_notebook\n",
    "from bokeh.plotting import figure\n",
    "from bokeh.models import Circle, HoverTool, TapTool, BoxSelectTool, OpenURL\n",
    "from bokeh.models.graphs import from_networkx\n",
    "from bokeh.transform import linear_cmap\n",
    "from bokeh.palettes import Spectral8\n",
    "from math import log\n",
    "import csv\n",
    "from csv import reader\n",
    "import pickle\n",
    "with open('tensorflow-networkx', 'rb') as f:\n",
    "    gr = pickle.load(f)\n",
    "\n",
    "new_nodes = list(gr.nodes())\n",
    "new_weights = list(gr.nodes[name]['weight'] for name in gr.nodes)\n",
    "new_edges = list(gr.edges())\n"
   ]
  },
  {
   "cell_type": "code",
   "execution_count": 8,
   "metadata": {},
   "outputs": [
    {
     "name": "stderr",
     "output_type": "stream",
     "text": [
      "ERROR:bokeh.core.validation.check:E-1001 (BAD_COLUMN_NAME): Glyph refers to nonexistent column name: degree, size [renderer: GlyphRenderer(id='9b4160f1-65d9-41c8-9a4c-bc647990c6ea', ...)]\n",
      "ERROR:bokeh.core.validation.check:E-1001 (BAD_COLUMN_NAME): Glyph refers to nonexistent column name: degree, size [renderer: GlyphRenderer(id='ebb0d6db-e8c8-4723-bcc4-d5a405777c51', ...)]\n",
      "ERROR:bokeh.core.validation.check:E-1001 (BAD_COLUMN_NAME): Glyph refers to nonexistent column name: degree, size [renderer: GlyphRenderer(id='4f3046b7-64dd-4047-9e24-c537a1e453d1', ...)]\n",
      "ERROR:bokeh.core.validation.check:E-1001 (BAD_COLUMN_NAME): Glyph refers to nonexistent column name: degree, size [renderer: GlyphRenderer(id='383b52f1-6218-4ed2-a26c-028115c158f4', ...)]\n",
      "ERROR:bokeh.core.validation.check:E-1001 (BAD_COLUMN_NAME): Glyph refers to nonexistent column name: degree, size [renderer: GlyphRenderer(id='1b3e5e11-c6f7-45bf-9b5e-5a5f4b77a8c3', ...)]\n"
     ]
    }
   ],
   "source": [
    "G = nx.Graph()\n",
    "G.add_nodes_from(new_nodes,color= 'blue')  \n",
    "G.add_edges_from(new_edges)\n",
    "\n",
    "#node_size = {k:5*v for k,v in G.degree()} \n",
    "#nx.set_node_attributes(G, node_size, 'node_size')\n",
    "# create the plot\n",
    "plot = figure(x_range=(-1, 1), y_range=(-1, 1))\n",
    "\n",
    "plot.add_tools(HoverTool(tooltips=[(\"Concept\", \"@concept\"), \n",
    "                                   (\"degree\", \"@degree\")]), \n",
    "               TapTool(), \n",
    "               BoxSelectTool())\n",
    "\n",
    "graph = from_networkx(G, nx.spring_layout, iterations=15, scale=1, center=(0,0))\n",
    "\n",
    "graph.node_renderer.data_source.data['concept'] = list(G.nodes())\n",
    "\n",
    "graph.node_renderer.data_source.data['degree'] = list(v for k,v in G.degree())\n",
    "\n",
    "graph.node_renderer.data_source.data['size'] = list(6*v for v in new_weights)\n",
    "\n",
    "#graph.node_renderer.data_source.data['colors'] = Spectral8\n",
    "\n",
    "#print(graph.node_renderer.data_source.data['degree'])\n",
    "# set node size\n",
    "from bokeh.transform import linear_cmap\n",
    "graph.node_renderer.glyph = Circle(\n",
    "    size='size', \n",
    "    fill_color=linear_cmap('degree', 'Spectral8', 0, 15)\n",
    ")\n",
    "url = \"https://www.google.com/search?q=@concept&oq=@concept+&aqs=chrome..69i57j46j0l3j46j0.2127j0j1&sourceid=chrome&ie=UTF-8\"\n",
    "taptool = plot.select(type=TapTool)\n",
    "taptool.callback = OpenURL(url=url)\n",
    "\n",
    "plot.renderers.append(graph)\n",
    "show(plot)\n",
    "\n",
    "#important link: https://stackoverflow.com/questions/50420584/color-nodes-by-networkx-node-attribute-with-bokeh"
   ]
  },
  {
   "cell_type": "code",
   "execution_count": null,
   "metadata": {},
   "outputs": [],
   "source": []
  }
 ],
 "metadata": {
  "kernelspec": {
   "display_name": "Python 3",
   "language": "python",
   "name": "python3"
  },
  "language_info": {
   "codemirror_mode": {
    "name": "ipython",
    "version": 3
   },
   "file_extension": ".py",
   "mimetype": "text/x-python",
   "name": "python",
   "nbconvert_exporter": "python",
   "pygments_lexer": "ipython3",
   "version": "3.6.8"
  }
 },
 "nbformat": 4,
 "nbformat_minor": 4
}
